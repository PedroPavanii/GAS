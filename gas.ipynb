{
 "cells": [
  {
   "cell_type": "code",
   "execution_count": 4,
   "id": "cfeb0f85",
   "metadata": {},
   "outputs": [],
   "source": [
    "from selenium import webdriver\n",
    "from selenium.webdriver.chrome.service import Service\n",
    "from webdriver_manager.chrome import ChromeDriverManager\n",
    "from webdriver_manager.firefox import GeckoDriverManager\n",
    "from selenium.webdriver.common.by import By\n",
    "from selenium.webdriver.common.keys import Keys\n",
    "from selenium.webdriver.common.action_chains import ActionChains\n",
    "import re\n",
    "import pandas as pd\n",
    "import numpy as np\n",
    "import tabula\n",
    "import os"
   ]
  },
  {
   "cell_type": "markdown",
   "id": "8c8f0469",
   "metadata": {},
   "source": [
    "***DATA EXTRACTION***"
   ]
  },
  {
   "cell_type": "code",
   "execution_count": 5,
   "id": "8dc2a982",
   "metadata": {
    "tags": []
   },
   "outputs": [],
   "source": [
    "# WEB SCRAPPING TABLE (df_salario):\n",
    "\n",
    "service = Service(executable_path=ChromeDriverManager().install())\n",
    "driver = webdriver.Chrome(service = service)\n",
    "driver.get('https://portal.trt3.jus.br/internet/servicos/valores/salario-minimo')\n",
    "url = driver.find_element(By.XPATH,'//*[@id=\"parent-fieldname-text\"]/div/table')\n",
    "html = url.get_attribute('outerHTML')\n",
    "driver.quit()\n",
    "df_salario = pd.read_html(html)[0]"
   ]
  },
  {
   "cell_type": "code",
   "execution_count": 3,
   "id": "a8daf239",
   "metadata": {
    "scrolled": true
   },
   "outputs": [],
   "source": [
    "# WEB SCRAPPING TABLE FROM PDF (margens_2013):\n",
    "\n",
    "margens_2013 = tabula.read_pdf(r'C:\\Users\\pedro\\OneDrive\\Área de Trabalho\\GAS\\margens_2013.pdf', pages = 'all')\n",
    "margens_2013 = pd.concat(margens_2013)"
   ]
  },
  {
   "cell_type": "code",
   "execution_count": 4,
   "id": "f1a6996b-05b0-405d-a2db-aa1d3b964e2f",
   "metadata": {
    "tags": []
   },
   "outputs": [],
   "source": [
    "# WEB SCRAPPING TABLE FROM PDF (margens_2023):\n",
    "\n",
    "margens = tabula.read_pdf(r'C:\\Users\\pedro\\OneDrive\\Área de Trabalho\\GAS\\margens_2023.pdf', pages = 'all')\n",
    "margens_2023 = pd.concat(margens)"
   ]
  },
  {
   "cell_type": "code",
   "execution_count": 5,
   "id": "bd51bf8d",
   "metadata": {},
   "outputs": [],
   "source": [
    "#READING XLSX FILES IN DATAFRAME (brasil):\n",
    "\n",
    "brasil = pd.read_excel(r'C:\\Users\\pedro\\OneDrive\\Área de Trabalho\\GAS\\brasil_semanal.xlsx')"
   ]
  },
  {
   "cell_type": "code",
   "execution_count": 6,
   "id": "3efb5651-f0a9-46a8-bd1f-d4fec7876296",
   "metadata": {},
   "outputs": [],
   "source": [
    "#READING XLSX FILES IN DATAFRAME (estados):\n",
    "\n",
    "estados = pd.read_excel(r'C:\\Users\\pedro\\OneDrive\\Área de Trabalho\\GAS\\estados_semanal.xlsx')"
   ]
  },
  {
   "cell_type": "markdown",
   "id": "8d942c8f",
   "metadata": {
    "tags": []
   },
   "source": [
    "***EXPLORING AND CLEANING THE DATA***"
   ]
  },
  {
   "cell_type": "markdown",
   "id": "ac9e4a4f-5d35-4df5-a0f1-586e39434877",
   "metadata": {},
   "source": [
    "*dataframe df_salario*"
   ]
  },
  {
   "cell_type": "code",
   "execution_count": 7,
   "id": "3c0497a5-0b39-4d12-bf6c-41215d8fcdc6",
   "metadata": {},
   "outputs": [
    {
     "data": {
      "text/html": [
       "<div>\n",
       "<style scoped>\n",
       "    .dataframe tbody tr th:only-of-type {\n",
       "        vertical-align: middle;\n",
       "    }\n",
       "\n",
       "    .dataframe tbody tr th {\n",
       "        vertical-align: top;\n",
       "    }\n",
       "\n",
       "    .dataframe thead th {\n",
       "        text-align: right;\n",
       "    }\n",
       "</style>\n",
       "<table border=\"1\" class=\"dataframe\">\n",
       "  <thead>\n",
       "    <tr style=\"text-align: right;\">\n",
       "      <th></th>\n",
       "      <th>ANO/VIGÊNCIA</th>\n",
       "      <th>VALOR</th>\n",
       "      <th>MOEDA</th>\n",
       "      <th>FONTE</th>\n",
       "    </tr>\n",
       "  </thead>\n",
       "  <tbody>\n",
       "    <tr>\n",
       "      <th>0</th>\n",
       "      <td>2023 1º/1/2023</td>\n",
       "      <td>R$ 1.302,00 Por Mês R$ 43,40 Por Dia R$ 5,92 P...</td>\n",
       "      <td>Real</td>\n",
       "      <td>MP n. 1.143, de 12/12/2022 DOU 12/12/2022 - Ed...</td>\n",
       "    </tr>\n",
       "    <tr>\n",
       "      <th>1</th>\n",
       "      <td>- 2022 1º/1/2022</td>\n",
       "      <td>R$ 1.212,00 Por Mês R$ 40,40 Por Dia R$ 5,51 P...</td>\n",
       "      <td>Real</td>\n",
       "      <td>MP n. 1.091, de 30/12/2021 DOU 31/12/2021 (Con...</td>\n",
       "    </tr>\n",
       "    <tr>\n",
       "      <th>2</th>\n",
       "      <td>2021 1º/1/2021</td>\n",
       "      <td>R$ 1.100,00 Por Mês R$ 36,67 Por Dia R$ 5,00 P...</td>\n",
       "      <td>Real</td>\n",
       "      <td>MP n. 1.021, de 30/12/2020 DOU 31/12/20 (Conve...</td>\n",
       "    </tr>\n",
       "    <tr>\n",
       "      <th>3</th>\n",
       "      <td>2020 1º/2/2020</td>\n",
       "      <td>R$ 1.045,00 Por Mês R$ 34,83 Por Dia R$ 4,75 P...</td>\n",
       "      <td>Real</td>\n",
       "      <td>MP n. 919, de 30/1/2020 DOU 31/1/20</td>\n",
       "    </tr>\n",
       "    <tr>\n",
       "      <th>4</th>\n",
       "      <td>2020 1º/1/2020</td>\n",
       "      <td>R$ 1.039,00 Por Mês R$ 34,63 Por Dia R$ 4,72 P...</td>\n",
       "      <td>Real</td>\n",
       "      <td>MP n. 916, de 31/12/2019 DOU 31/12/19 - Edição...</td>\n",
       "    </tr>\n",
       "  </tbody>\n",
       "</table>\n",
       "</div>"
      ],
      "text/plain": [
       "       ANO/VIGÊNCIA                                              VALOR MOEDA  \\\n",
       "0    2023 1º/1/2023  R$ 1.302,00 Por Mês R$ 43,40 Por Dia R$ 5,92 P...  Real   \n",
       "1  - 2022 1º/1/2022  R$ 1.212,00 Por Mês R$ 40,40 Por Dia R$ 5,51 P...  Real   \n",
       "2    2021 1º/1/2021  R$ 1.100,00 Por Mês R$ 36,67 Por Dia R$ 5,00 P...  Real   \n",
       "3    2020 1º/2/2020  R$ 1.045,00 Por Mês R$ 34,83 Por Dia R$ 4,75 P...  Real   \n",
       "4    2020 1º/1/2020  R$ 1.039,00 Por Mês R$ 34,63 Por Dia R$ 4,72 P...  Real   \n",
       "\n",
       "                                               FONTE  \n",
       "0  MP n. 1.143, de 12/12/2022 DOU 12/12/2022 - Ed...  \n",
       "1  MP n. 1.091, de 30/12/2021 DOU 31/12/2021 (Con...  \n",
       "2  MP n. 1.021, de 30/12/2020 DOU 31/12/20 (Conve...  \n",
       "3                MP n. 919, de 30/1/2020 DOU 31/1/20  \n",
       "4  MP n. 916, de 31/12/2019 DOU 31/12/19 - Edição...  "
      ]
     },
     "execution_count": 7,
     "metadata": {},
     "output_type": "execute_result"
    }
   ],
   "source": [
    "#EXPLORING THE df_salario DATAFRAME:\n",
    "\n",
    "df_salario.head()"
   ]
  },
  {
   "cell_type": "code",
   "execution_count": 8,
   "id": "3c93d518-fba2-43d0-b8f1-b8b2c3e702ac",
   "metadata": {},
   "outputs": [
    {
     "data": {
      "text/html": [
       "<div>\n",
       "<style scoped>\n",
       "    .dataframe tbody tr th:only-of-type {\n",
       "        vertical-align: middle;\n",
       "    }\n",
       "\n",
       "    .dataframe tbody tr th {\n",
       "        vertical-align: top;\n",
       "    }\n",
       "\n",
       "    .dataframe thead th {\n",
       "        text-align: right;\n",
       "    }\n",
       "</style>\n",
       "<table border=\"1\" class=\"dataframe\">\n",
       "  <thead>\n",
       "    <tr style=\"text-align: right;\">\n",
       "      <th></th>\n",
       "      <th>ANO/VIGÊNCIA</th>\n",
       "      <th>VALOR</th>\n",
       "      <th>MOEDA</th>\n",
       "      <th>FONTE</th>\n",
       "    </tr>\n",
       "  </thead>\n",
       "  <tbody>\n",
       "    <tr>\n",
       "      <th>129</th>\n",
       "      <td>1954 4/7/1954</td>\n",
       "      <td>Cr$ 2.200,00 Por Mês (valor regional para BH e...</td>\n",
       "      <td>Cruzeiro</td>\n",
       "      <td>Decreto n.35.450, de 1º/5/1954 DOU 4/5/54</td>\n",
       "    </tr>\n",
       "    <tr>\n",
       "      <th>130</th>\n",
       "      <td>1952 1º/1/1952</td>\n",
       "      <td>Cr$ 900,00 Por Mês Cr$ 30,00 Por Dia Cr$ 3,75 ...</td>\n",
       "      <td>Cruzeiro</td>\n",
       "      <td>Decreto n.30.342, de 24/12/1951 DOU 26/12/51</td>\n",
       "    </tr>\n",
       "    <tr>\n",
       "      <th>131</th>\n",
       "      <td>1943 1º/12/1943</td>\n",
       "      <td>Cr$ 270,00 Por Mês Cr$ 10,80 Por Dia Cr$ 1,35 ...</td>\n",
       "      <td>Cruzeiro</td>\n",
       "      <td>Decreto-Lei n. 5.977, de 10/11/1943 DOU 22/11/43</td>\n",
       "    </tr>\n",
       "    <tr>\n",
       "      <th>132</th>\n",
       "      <td>1943 17/7/1943</td>\n",
       "      <td>Cr$ 212,00 Por Mês Cr$ 8,48 Por Dia Cr$ 1,06 P...</td>\n",
       "      <td>Cruzeiro</td>\n",
       "      <td>Decreto-Lein.5.670, de 15/7/1943 DOU 17/7/43</td>\n",
       "    </tr>\n",
       "    <tr>\n",
       "      <th>133</th>\n",
       "      <td>1940 4/7/1940</td>\n",
       "      <td>170$000 Por Mês 6$800 Por Dia $850 Por Hora (v...</td>\n",
       "      <td>Real</td>\n",
       "      <td>Decreto-Lein.2.162, de 1º/5/1940 DOU 4/5/40 (D...</td>\n",
       "    </tr>\n",
       "  </tbody>\n",
       "</table>\n",
       "</div>"
      ],
      "text/plain": [
       "        ANO/VIGÊNCIA                                              VALOR  \\\n",
       "129    1954 4/7/1954  Cr$ 2.200,00 Por Mês (valor regional para BH e...   \n",
       "130   1952 1º/1/1952  Cr$ 900,00 Por Mês Cr$ 30,00 Por Dia Cr$ 3,75 ...   \n",
       "131  1943 1º/12/1943  Cr$ 270,00 Por Mês Cr$ 10,80 Por Dia Cr$ 1,35 ...   \n",
       "132   1943 17/7/1943  Cr$ 212,00 Por Mês Cr$ 8,48 Por Dia Cr$ 1,06 P...   \n",
       "133    1940 4/7/1940  170$000 Por Mês 6$800 Por Dia $850 Por Hora (v...   \n",
       "\n",
       "        MOEDA                                              FONTE  \n",
       "129  Cruzeiro          Decreto n.35.450, de 1º/5/1954 DOU 4/5/54  \n",
       "130  Cruzeiro       Decreto n.30.342, de 24/12/1951 DOU 26/12/51  \n",
       "131  Cruzeiro   Decreto-Lei n. 5.977, de 10/11/1943 DOU 22/11/43  \n",
       "132  Cruzeiro       Decreto-Lein.5.670, de 15/7/1943 DOU 17/7/43  \n",
       "133      Real  Decreto-Lein.2.162, de 1º/5/1940 DOU 4/5/40 (D...  "
      ]
     },
     "execution_count": 8,
     "metadata": {},
     "output_type": "execute_result"
    }
   ],
   "source": [
    "#EXPLORING THE df_salario DATAFRAME:\n",
    "\n",
    "df_salario.tail()"
   ]
  },
  {
   "cell_type": "code",
   "execution_count": 9,
   "id": "b46fbd3a-4864-4b36-834c-ad2d5b9d2112",
   "metadata": {},
   "outputs": [
    {
     "name": "stdout",
     "output_type": "stream",
     "text": [
      "<class 'pandas.core.frame.DataFrame'>\n",
      "RangeIndex: 134 entries, 0 to 133\n",
      "Data columns (total 4 columns):\n",
      " #   Column        Non-Null Count  Dtype \n",
      "---  ------        --------------  ----- \n",
      " 0   ANO/VIGÊNCIA  134 non-null    object\n",
      " 1   VALOR         134 non-null    object\n",
      " 2   MOEDA         134 non-null    object\n",
      " 3   FONTE         134 non-null    object\n",
      "dtypes: object(4)\n",
      "memory usage: 4.3+ KB\n"
     ]
    }
   ],
   "source": [
    "#EXPLORING THE df_salario DATAFRAME:\n",
    "\n",
    "df_salario.info()"
   ]
  },
  {
   "cell_type": "code",
   "execution_count": null,
   "id": "7b0189bb-fa7e-4ed3-8268-311d18bc3a43",
   "metadata": {},
   "outputs": [],
   "source": []
  },
  {
   "cell_type": "code",
   "execution_count": 2,
   "id": "10a96a3a-d30b-412a-9ba9-2d90971f1eeb",
   "metadata": {},
   "outputs": [
    {
     "ename": "NameError",
     "evalue": "name 'df_salario' is not defined",
     "output_type": "error",
     "traceback": [
      "\u001b[1;31m---------------------------------------------------------------------------\u001b[0m",
      "\u001b[1;31mNameError\u001b[0m                                 Traceback (most recent call last)",
      "\u001b[1;32m~\\AppData\\Local\\Temp\\ipykernel_19420\\86123160.py\u001b[0m in \u001b[0;36m<module>\u001b[1;34m\u001b[0m\n\u001b[0;32m      1\u001b[0m \u001b[1;31m#PERFORMING TREATMENT IN DATAFRAME df_salario USING DE FUNCTION BELOW:\u001b[0m\u001b[1;33m\u001b[0m\u001b[1;33m\u001b[0m\u001b[0m\n\u001b[0;32m      2\u001b[0m \u001b[1;31m#pattern = r'\\b\\d{1,2}[/-]\\d{1,2}[/-]\\d{2,4}\\b'\u001b[0m\u001b[1;33m\u001b[0m\u001b[1;33m\u001b[0m\u001b[0m\n\u001b[1;32m----> 3\u001b[1;33m \u001b[0mdf_salario\u001b[0m\u001b[1;33m.\u001b[0m\u001b[0mdrop\u001b[0m\u001b[1;33m(\u001b[0m\u001b[0mcolumns\u001b[0m \u001b[1;33m=\u001b[0m \u001b[1;33m[\u001b[0m\u001b[1;34m'MOEDA'\u001b[0m\u001b[1;33m,\u001b[0m\u001b[1;34m'FONTE'\u001b[0m\u001b[1;33m]\u001b[0m\u001b[1;33m)\u001b[0m\u001b[1;33m.\u001b[0m\u001b[0mdrop\u001b[0m\u001b[1;33m(\u001b[0m\u001b[0mindex\u001b[0m\u001b[1;33m=\u001b[0m\u001b[0mrange\u001b[0m\u001b[1;33m(\u001b[0m\u001b[1;36m12\u001b[0m\u001b[1;33m,\u001b[0m\u001b[1;36m134\u001b[0m\u001b[1;33m)\u001b[0m\u001b[1;33m)\u001b[0m\u001b[1;33m\u001b[0m\u001b[1;33m\u001b[0m\u001b[0m\n\u001b[0m\u001b[0;32m      4\u001b[0m \u001b[1;31m#df = df['ANO/VIGÊNCIA'] = df['ANO/VIGÊNCIA'].apply(lambda x: re.sub(pattern, \"\", x))\u001b[0m\u001b[1;33m\u001b[0m\u001b[1;33m\u001b[0m\u001b[0m\n\u001b[0;32m      5\u001b[0m \u001b[1;31m#df.rename(columns = {'ANO/VIGÊNCIA':'DATA', 'VALOR':'VALOR POR MÊS'})\u001b[0m\u001b[1;33m\u001b[0m\u001b[1;33m\u001b[0m\u001b[0m\n",
      "\u001b[1;31mNameError\u001b[0m: name 'df_salario' is not defined"
     ]
    }
   ],
   "source": [
    "#PERFORMING TREATMENT IN DATAFRAME df_salario USING DE FUNCTION BELOW:\n",
    "#pattern = r'\\b\\d{1,2}[/-]\\d{1,2}[/-]\\d{2,4}\\b'\n",
    "df_salario.drop(columns = ['MOEDA','FONTE']).drop(index=range(12,134))\n",
    "#df = df['ANO/VIGÊNCIA'] = df['ANO/VIGÊNCIA'].apply(lambda x: re.sub(pattern, \"\", x))\n",
    "#df.rename(columns = {'ANO/VIGÊNCIA':'DATA', 'VALOR':'VALOR POR MÊS'})\n",
    "\n",
    "\n"
   ]
  },
  {
   "cell_type": "code",
   "execution_count": null,
   "id": "7acb1844-ffb5-4e0c-abdf-28d5a2ecc6b4",
   "metadata": {},
   "outputs": [],
   "source": []
  },
  {
   "cell_type": "code",
   "execution_count": null,
   "id": "e3bd54bb-335d-4a8a-b05c-c4270dd7912e",
   "metadata": {},
   "outputs": [],
   "source": []
  },
  {
   "cell_type": "code",
   "execution_count": null,
   "id": "55d764e0-8542-4238-bce8-a77de793341d",
   "metadata": {},
   "outputs": [],
   "source": []
  },
  {
   "cell_type": "code",
   "execution_count": null,
   "id": "ca2679d3-6686-4e4e-9ca0-19c4801b99c8",
   "metadata": {},
   "outputs": [],
   "source": []
  },
  {
   "cell_type": "markdown",
   "id": "e93c0b81",
   "metadata": {},
   "source": [
    "*dataframe brasil*"
   ]
  },
  {
   "cell_type": "code",
   "execution_count": null,
   "id": "ae66478b",
   "metadata": {
    "scrolled": true
   },
   "outputs": [],
   "source": [
    "#EXPLORING THE brasil DATAFRAME:\n",
    "brasil.head()"
   ]
  },
  {
   "cell_type": "code",
   "execution_count": null,
   "id": "90e186ab",
   "metadata": {},
   "outputs": [],
   "source": [
    "#EXPLORING THE brasil DATAFRAME:\n",
    "brasil.tail()"
   ]
  },
  {
   "cell_type": "code",
   "execution_count": null,
   "id": "aa1bb216",
   "metadata": {},
   "outputs": [],
   "source": [
    "#EXPLORING THE brasil DATAFRAME:\n",
    "brasil.info()"
   ]
  },
  {
   "cell_type": "code",
   "execution_count": null,
   "id": "00814f15",
   "metadata": {},
   "outputs": [],
   "source": [
    "#PERFORMING TREATMENT IN DATAFRAME brasil USING DE FUNCTION BELOW:\n",
    "\n",
    "def limpar_df_br(df):\n",
    "    '''This function performs the following steps on any project dataframe: cleans columns and rows that are not relevant to the analysis;\n",
    "    performs substitutions in order to improve aesthetics and finally filters the results only from GLP.'''\n",
    "    import pandas as pd\n",
    "    import numpy as np\n",
    "    from datetime import datetime\n",
    "    df = df.rename(columns = {'AGÊNCIA NACIONAL DO PETRÓLEO, GÁS NATURAL E BIOCOMBUSTÍVEIS - ANP':'DATA INICIAL','Unnamed: 1':'DATA FINAL', 'Unnamed: 2':'PRODUTO','Unnamed: 3':'NÚMERO DE POSTOS PESQUISADOS','Unnamed: 4':'UNIDADE DE MEDIDA','Unnamed: 5':'PREÇO MÉDIO REVENDA','Unnamed: 6':'DESVIO PADRÃO REVENDA','Unnamed: 7':'PREÇO MÍNIMO REVENDA','Unnamed: 8':'PREÇO MÁXIMO REVENDA','Unnamed: 9':'MARGEM MÉDIA REVENDA','Unnamed: 10':'COEF DE VARIAÇÃO REVENDA','Unnamed: 11':'PREÇO MÉDIO DISTRIBUIÇÃO','Unnamed: 12':'DESVIO PADRÃO DISTRIBUIÇÃO','Unnamed: 13':'PREÇO MÍNIMO DISTRIBUIÇÃO','Unnamed: 14':'PREÇO MÁXIMO DISTRIBUIÇÃO','Unnamed: 15':'COEF DE VARIAÇÃO DISTRIBUIÇÃO'})\n",
    "    df_1 = df.drop(index=range(0, 17)).drop(columns=['DATA INICIAL', 'DESVIO PADRÃO REVENDA', 'MARGEM MÉDIA REVENDA','COEF DE VARIAÇÃO REVENDA', 'PREÇO MÉDIO DISTRIBUIÇÃO','DESVIO PADRÃO DISTRIBUIÇÃO',\t'PREÇO MÍNIMO DISTRIBUIÇÃO','PREÇO MÁXIMO DISTRIBUIÇÃO','COEF DE VARIAÇÃO DISTRIBUIÇÃO'])\n",
    "    df_limpo = df_1.loc[df_1['PRODUTO'] == 'GLP']\n",
    "    df_limpo = df_limpo.replace('-', 'Não Informado').replace('R$/13Kg', '13Kg').replace('R$/13kg', '13Kg')\n",
    "    df_limpo['DATA FINAL'] = pd.to_datetime(df_limpo['DATA FINAL'])\n",
    "    df_limpo['DATA FINAL'] = df_limpo['DATA FINAL'].apply(lambda x: datetime.strftime(x, '%b-%Y'))\n",
    "    df_limpo.index.name = 'DATA'\n",
    "    return df_limpo\n"
   ]
  },
  {
   "cell_type": "code",
   "execution_count": null,
   "id": "19ff2577",
   "metadata": {},
   "outputs": [],
   "source": [
    "# NEW DATAFRAME TREATED (glp_br):\n",
    "glp_br = limpar_df_br(brasil)"
   ]
  },
  {
   "cell_type": "markdown",
   "id": "3bdd1366-dd40-4537-993c-6e70a4a2380c",
   "metadata": {},
   "source": [
    "***DATAFRAME estado***"
   ]
  },
  {
   "cell_type": "code",
   "execution_count": null,
   "id": "ee7317ff-b04d-41e7-9394-9c72b4c8a67f",
   "metadata": {},
   "outputs": [],
   "source": [
    "#EXPLORING THE (estados) DATAFRAME:\n",
    "estados.head()"
   ]
  },
  {
   "cell_type": "code",
   "execution_count": null,
   "id": "c5cec474-142d-4aa1-a2fd-4b29ba0bbd4c",
   "metadata": {},
   "outputs": [],
   "source": [
    "#EXPLORING THE (estados) DATAFRAME:\n",
    "estados.tail()"
   ]
  },
  {
   "cell_type": "code",
   "execution_count": null,
   "id": "725d3f7e-a32a-4842-9455-5db1b0389e5d",
   "metadata": {},
   "outputs": [],
   "source": [
    "#EXPLORING THE (estados) DATAFRAME:\n",
    "estados.info()"
   ]
  },
  {
   "cell_type": "code",
   "execution_count": null,
   "id": "1e2bb194",
   "metadata": {
    "tags": []
   },
   "outputs": [],
   "source": [
    "#PERFORMING TREATMENT IN DATAFRAME estados USING DE FUNCTION BELOW:\n",
    "\n",
    "def limpar_df_estado(df):\n",
    "    '''This function performs the following steps on any project dataframe: cleans columns and rows that are not relevant to the analysis;\n",
    "    performs substitutions in order to improve aesthetics and finally filters the results only from GLP.'''\n",
    "    import pandas as pd\n",
    "    import numpy as np\n",
    "    from datetime import datetime   \n",
    "    df = df.drop(index=range(0, 17)).drop(columns = ['AGÊNCIA NACIONAL DO PETRÓLEO, GÁS NATURAL E BIOCOMBUSTÍVEIS - ANP', 'Unnamed: 8', 'Unnamed: 11','Unnamed: 12','Unnamed: 13','Unnamed: 14','Unnamed: 15','Unnamed: 16','Unnamed: 17'])\n",
    "    estados_limpo = df.rename(columns = {'Unnamed: 1':'DATA FINAL', 'Unnamed: 2':'REGIÃO','Unnamed: 3':'ESTADO','Unnamed: 4':'PRODUTO','Unnamed: 5':'NÚMERO DE POSTOS PESQUISADOS','Unnamed: 6':'UNIDADE DE MEDIDA','Unnamed: 7':'PREÇO MÉDIO REVENDA','Unnamed: 9':'PREÇO MÍNIMO REVENDA','Unnamed: 10':'PREÇO MÁXIMO REVENDA'})\n",
    "    df_limpo = estados_limpo.loc[estados_limpo['PRODUTO'] == 'GLP']\n",
    "    df_limpo = df_limpo.replace('-', 'Não Informado').replace('R$/13Kg', '13Kg').replace('R$/13kg', '13Kg')\n",
    "    df_limpo['DATA FINAL'] = pd.to_datetime(df_limpo['DATA FINAL'])\n",
    "    df_limpo['DATA FINAL'] = df_limpo['DATA FINAL'].apply(lambda x: datetime.strftime(x, '%b-%Y'))\n",
    "    df_limpo = df_limpo.set_index('DATA FINAL')\n",
    "    df_limpo.index.name = 'DATA'\n",
    "    return df_limpo\n"
   ]
  },
  {
   "cell_type": "code",
   "execution_count": null,
   "id": "e544c256",
   "metadata": {},
   "outputs": [],
   "source": [
    "# NEW DATAFRAME TREATED (glp_regioes):\n",
    "glp_regioes = limpar_df_estado(estados)"
   ]
  },
  {
   "cell_type": "code",
   "execution_count": null,
   "id": "033cc5d8",
   "metadata": {},
   "outputs": [],
   "source": []
  },
  {
   "cell_type": "code",
   "execution_count": null,
   "id": "6816115b",
   "metadata": {},
   "outputs": [],
   "source": []
  },
  {
   "cell_type": "code",
   "execution_count": null,
   "id": "4c8a0189",
   "metadata": {},
   "outputs": [],
   "source": []
  },
  {
   "cell_type": "code",
   "execution_count": null,
   "id": "11ece8a2",
   "metadata": {},
   "outputs": [],
   "source": []
  },
  {
   "cell_type": "raw",
   "id": "a2530e32",
   "metadata": {},
   "source": []
  },
  {
   "cell_type": "code",
   "execution_count": null,
   "id": "2ecad62d",
   "metadata": {},
   "outputs": [],
   "source": []
  },
  {
   "cell_type": "code",
   "execution_count": null,
   "id": "c6aa58f6",
   "metadata": {},
   "outputs": [],
   "source": []
  }
 ],
 "metadata": {
  "kernelspec": {
   "display_name": "Python 3 (ipykernel)",
   "language": "python",
   "name": "python3"
  },
  "language_info": {
   "codemirror_mode": {
    "name": "ipython",
    "version": 3
   },
   "file_extension": ".py",
   "mimetype": "text/x-python",
   "name": "python",
   "nbconvert_exporter": "python",
   "pygments_lexer": "ipython3",
   "version": "3.9.13"
  },
  "varInspector": {
   "cols": {
    "lenName": 16,
    "lenType": 16,
    "lenVar": 40
   },
   "kernels_config": {
    "python": {
     "delete_cmd_postfix": "",
     "delete_cmd_prefix": "del ",
     "library": "var_list.py",
     "varRefreshCmd": "print(var_dic_list())"
    },
    "r": {
     "delete_cmd_postfix": ") ",
     "delete_cmd_prefix": "rm(",
     "library": "var_list.r",
     "varRefreshCmd": "cat(var_dic_list()) "
    }
   },
   "types_to_exclude": [
    "module",
    "function",
    "builtin_function_or_method",
    "instance",
    "_Feature"
   ],
   "window_display": false
  }
 },
 "nbformat": 4,
 "nbformat_minor": 5
}
