{
 "cells": [
  {
   "cell_type": "markdown",
   "id": "e9041f3d-958e-4365-9d82-33cde583241b",
   "metadata": {},
   "source": [
    "# The impact of the price of LPG for the needy population in relation to the minimum wage. An analysis from 2013 to 2023."
   ]
  },
  {
   "cell_type": "markdown",
   "id": "57c60856-32d2-488e-89bc-a08e44cfa2bd",
   "metadata": {
    "jp-MarkdownHeadingCollapsed": true,
    "tags": []
   },
   "source": [
    "## IMPORTING LIBRARIES"
   ]
  },
  {
   "cell_type": "code",
   "execution_count": 1,
   "id": "cfeb0f85",
   "metadata": {},
   "outputs": [],
   "source": [
    "from selenium import webdriver\n",
    "from selenium.webdriver.chrome.service import Service\n",
    "from webdriver_manager.chrome import ChromeDriverManager\n",
    "from webdriver_manager.firefox import GeckoDriverManager\n",
    "from selenium.webdriver.common.by import By\n",
    "from selenium.webdriver.common.keys import Keys\n",
    "from selenium.webdriver.common.action_chains import ActionChains\n",
    "import re\n",
    "import pandas as pd\n",
    "import numpy as np\n",
    "import tabula\n",
    "import os"
   ]
  },
  {
   "cell_type": "markdown",
   "id": "8c8f0469",
   "metadata": {
    "jp-MarkdownHeadingCollapsed": true,
    "tags": []
   },
   "source": [
    "## DATA EXTRACTION"
   ]
  },
  {
   "cell_type": "code",
   "execution_count": 2,
   "id": "8dc2a982",
   "metadata": {
    "tags": []
   },
   "outputs": [],
   "source": [
    "# WEB SCRAPPING TABLE (df_salario):\n",
    "\n",
    "service = Service(executable_path=ChromeDriverManager().install())\n",
    "driver = webdriver.Chrome(service = service)\n",
    "driver.get('https://portal.trt3.jus.br/internet/servicos/valores/salario-minimo')\n",
    "url = driver.find_element(By.XPATH,'//*[@id=\"parent-fieldname-text\"]/div/table')\n",
    "html = url.get_attribute('outerHTML')\n",
    "driver.quit()\n",
    "df_salario = pd.read_html(html)[0]"
   ]
  },
  {
   "cell_type": "code",
   "execution_count": 3,
   "id": "a8daf239",
   "metadata": {
    "scrolled": true
   },
   "outputs": [],
   "source": [
    "# WEB SCRAPPING TABLE FROM PDF (margens_2013):\n",
    "\n",
    "margens_2013 = tabula.read_pdf(r'C:\\Users\\pedro\\OneDrive\\Área de Trabalho\\GAS\\margens_2013.pdf', pages = 'all')\n",
    "margens_13 = pd.concat(margens_2013)"
   ]
  },
  {
   "cell_type": "code",
   "execution_count": 4,
   "id": "f1a6996b-05b0-405d-a2db-aa1d3b964e2f",
   "metadata": {
    "tags": []
   },
   "outputs": [],
   "source": [
    "# WEB SCRAPPING TABLE FROM PDF (margens_2023):\n",
    "\n",
    "margens = tabula.read_pdf(r'C:\\Users\\pedro\\OneDrive\\Área de Trabalho\\GAS\\margens_2023.pdf', pages = 'all')\n",
    "margens_23 = pd.concat(margens)"
   ]
  },
  {
   "cell_type": "code",
   "execution_count": 5,
   "id": "bd51bf8d",
   "metadata": {},
   "outputs": [],
   "source": [
    "#READING XLSX FILES IN DATAFRAME (brasil):\n",
    "\n",
    "brasil = pd.read_excel(r'C:\\Users\\pedro\\OneDrive\\Área de Trabalho\\GAS\\brasil_semanal.xlsx')"
   ]
  },
  {
   "cell_type": "code",
   "execution_count": 6,
   "id": "3efb5651-f0a9-46a8-bd1f-d4fec7876296",
   "metadata": {},
   "outputs": [],
   "source": [
    "#READING XLSX FILES IN DATAFRAME (estados):\n",
    "\n",
    "estados = pd.read_excel(r'C:\\Users\\pedro\\OneDrive\\Área de Trabalho\\GAS\\estados_semanal.xlsx')"
   ]
  },
  {
   "cell_type": "code",
   "execution_count": 7,
   "id": "e291e0d0-ad86-4ba3-b567-964dbb0f5c24",
   "metadata": {},
   "outputs": [],
   "source": [
    "#READING XLSX FILES IN DATAFRAME COMPLEMENT STATES ICMS ()\n",
    "to = pd.read_excel(r'C:\\Users\\pedro\\OneDrive\\Área de Trabalho\\GAS\\TO.xlsx')\n",
    "sc = pd.read_excel(r'C:\\Users\\pedro\\OneDrive\\Área de Trabalho\\GAS\\SC.xlsx')\n",
    "rn = pd.read_excel(r'C:\\Users\\pedro\\OneDrive\\Área de Trabalho\\GAS\\RN.xlsx')\n",
    "pr = pd.read_excel(r'C:\\Users\\pedro\\OneDrive\\Área de Trabalho\\GAS\\PR.xlsx')\n",
    "ms = pd.read_excel(r'C:\\Users\\pedro\\OneDrive\\Área de Trabalho\\GAS\\MS.xlsx')\n",
    "es = pd.read_excel(r'C:\\Users\\pedro\\OneDrive\\Área de Trabalho\\GAS\\ES.xlsx')\n",
    "am = pd.read_excel(r'C:\\Users\\pedro\\OneDrive\\Área de Trabalho\\GAS\\AM.xlsx')\n",
    "\n",
    "complemento_icms = pd.concat([to,sc,rn,pr,ms,es,am])"
   ]
  },
  {
   "cell_type": "markdown",
   "id": "8d942c8f",
   "metadata": {
    "jp-MarkdownHeadingCollapsed": true,
    "tags": []
   },
   "source": [
    "## EXPLORING AND CLEANING THE DATA"
   ]
  },
  {
   "cell_type": "markdown",
   "id": "ac9e4a4f-5d35-4df5-a0f1-586e39434877",
   "metadata": {
    "jp-MarkdownHeadingCollapsed": true,
    "tags": []
   },
   "source": [
    "### DATAFRAME df_salario:"
   ]
  },
  {
   "cell_type": "code",
   "execution_count": 8,
   "id": "10a96a3a-d30b-412a-9ba9-2d90971f1eeb",
   "metadata": {},
   "outputs": [],
   "source": [
    "#PERFORMING TREATMENT IN DATAFRAME df_salario USING DE FUNCTION BELOW:\n",
    "    \n",
    "def limpar_df_salario(df):\n",
    "    \n",
    "    '''THIS FUNCTION PERFORMS THE CLEANING TREATMENT ON THE DATAFRAME 'df_salario'.'''\n",
    "    \n",
    "    df = df.drop(columns = ['MOEDA','FONTE']).drop(index=range(12,134))\n",
    "    df = df.rename(columns = {'ANO/VIGÊNCIA':'DATA', 'VALOR':'VALOR POR MÊS'})\n",
    "    df['VALOR POR MÊS'] = df['VALOR POR MÊS'].str.slice(stop=11)\n",
    "    df['VALOR POR MÊS'] = df['VALOR POR MÊS'].str.replace('P','').str.replace(',','.')\n",
    "    df['VALOR POR MÊS'] = df['VALOR POR MÊS'].str.replace(r'R\\$ +', '', regex=True)\n",
    "    df['VALOR POR MÊS'] = df['VALOR POR MÊS'].str.replace(r'R\\$\\xa0', '', regex=True)\n",
    "    df['VALOR POR MÊS'] = df['VALOR POR MÊS'].str.replace(r'\\xa0', '', regex=True)\n",
    "    df['DATA'] = df['DATA'].str.replace(r'\\s+\\d{1,2}º/\\d{1,2}/\\d{4}', '', regex=True).str.replace('- ','')\n",
    "    df['DATA'] = pd.to_datetime('01- Jan'+df['DATA'])\n",
    "    lista = ['1302,00', '1212,00', '1100,00', '1045,00', '1039,00',\n",
    "       '998,00', '954,00', '937,00', '880,00', '788,00', '724,00',\n",
    "       '678,00']\n",
    "    df['VALOR POR MÊS'] = lista\n",
    "    return df\n",
    "    "
   ]
  },
  {
   "cell_type": "code",
   "execution_count": 9,
   "id": "7acb1844-ffb5-4e0c-abdf-28d5a2ecc6b4",
   "metadata": {},
   "outputs": [],
   "source": [
    "# NEW DATAFRAME TREATED (salario_minimo):\n",
    "\n",
    "salario_minimo = limpar_df_salario(df_salario)\n"
   ]
  },
  {
   "cell_type": "markdown",
   "id": "af0ddaa6-f7bd-4db7-8912-5c1053f2f0fb",
   "metadata": {
    "jp-MarkdownHeadingCollapsed": true,
    "tags": []
   },
   "source": [
    "### DATAFRAME margens_2013"
   ]
  },
  {
   "cell_type": "code",
   "execution_count": 10,
   "id": "927f503f-e1f3-4c1f-becc-44869a9e161f",
   "metadata": {},
   "outputs": [],
   "source": [
    "#PERFORMING TREATMENT IN DATAFRAME margens_13 USING DE FUNCTION BELOW:\n",
    "\n",
    "def brasil_icms(margens_13):\n",
    "    \n",
    "    '''This function performs the following steps on any project dataframe: cleans columns and rows that are not relevant to the analysis;\n",
    "    performs substitutions in order to improve aesthetics and finally filters the results only from GLP.'''\n",
    "    \n",
    "    estado = margens_13.drop(columns = {'Obs: A partir de abril/04, passou a vigorar a nova sistemática de cobrança de ICMS de GLP em 11 estados (AM, AL, BA, CE, MA, RN, PA, PB, PE, RJ e SE), que consideram que parte do\\rproduto é produzido a partir do gás natural.\\rA parcela referente à bi-tributação de ICMS nestes estados está incluída na Margem Bruta de Distribuição.\\r(1) A Resolução G SEFAZ n.o 13/08, de 22/09/08, incluiu o GLP acondicionado em recipientes transportáveis com capacidade de até 13 kg, destinado ao consumo doméstico, na lista\\rde mercadorias integrantes da cesta básica. Dessa forma, sua alíquota de ICMS caiu de 17% para 1%, conforme Resolução G SEFAZ n.o 11/08, de 14/08/08. A Lei Estadual n.o 3.361,\\rde 30/12/2008, em vigor a partir de 1o de janeiro de 2009, isentou do ICMS as operações internas com GLP destinado ao consumo doméstico e acondicionado em recipientes\\rtransportáveis com capacidade de até 13 kg. A alínea \"b\" da Lei Complementar Estadual no 112, de 21/12/2012, em vigor desde 1/4/2013, alterou para 17% o valor da alíquota de\\rICMS das operações internas com GLP.\\r(2) Não foi possível calcular as margens brutas de distribuição e de revenda em função da ausência de preços de distribuição.\\rNotas:\\rPreços de Produtores:\\rDesde janeiro de 2002, preços informados, semanalmente, pelos produtores e importadores, nos termos da Portaria ANP n.o 297, de 18/12/2001.\\rEm contrapartida à retirada do subsídio aos preços de GLP, foi instituído, por meio do Decreto n.o 4.102, de 24/01/2002, o programa \"Auxílio-Gás\" no valor de R$ 7,50 / mês para\\rfamílias de baixa renda, posteriormente unificado pelo programa \"Bolsa-Família\" por meio da Lei n.o 10.836, de 09 de janeiro de 2004.\\rOs preços referem-se às vendas de GLP por botijão de 13 kg.\\rICMS:\\rAs alíquotas, as margens de valor agregado e os preços médios ponderados ao consumidor final (PMPF) são estabelecidos por Convênios CONFAZ e Atos COTEPE e variam de estado\\rpara estado.\\rPara formação do preço Brasil, o ICMS foi calculado com base nos valores de cada estado, ponderado pelos  respectivos volumes de comercialização.\\rMargens de Distribuição e de Revenda:\\rCalculadas com base nos dados semanais do Levantamento de Preços e de Margens de Comercialização de Combustíveis da ANP, regulamentado pela Portaria ANP n.o 202, de\\r15/08/2000.\\rOs preços de distribuição podem, eventualmente, contemplar valores relativos à descontos por pagamentos de duplicatas no vencimento e por cumprimento de metas de vendas.'})\n",
    "    estado = estado.drop(columns = {'Unnamed: 6','Unnamed: 7','Unnamed: 8','Unnamed: 9','Unnamed: 2','Unnamed: 3','Unnamed: 4','Unnamed: 5'})\n",
    "    estado = estado.reset_index(drop=True).drop(index=[0,2,3,4,6,7,8,9,10,11,12])\n",
    "    estado = estado.rename(columns = {'Unnamed: 0':'ESTADO','Unnamed: 1':'ICMS'\t})\n",
    "    estado = estado.iloc[0:2]\n",
    "    estado = estado.reset_index(drop=True).drop(index=[0])\n",
    "    estado.fillna('BRASIL', inplace=True)\n",
    "    \n",
    "    return estado\n",
    "\n"
   ]
  },
  {
   "cell_type": "code",
   "execution_count": 11,
   "id": "ca2679d3-6686-4e4e-9ca0-19c4801b99c8",
   "metadata": {},
   "outputs": [],
   "source": [
    "brasil_icms_13 = brasil_icms(margens_13)"
   ]
  },
  {
   "cell_type": "markdown",
   "id": "e93c0b81",
   "metadata": {
    "jp-MarkdownHeadingCollapsed": true,
    "tags": []
   },
   "source": [
    "### DATAFRAME brasil"
   ]
  },
  {
   "cell_type": "code",
   "execution_count": 12,
   "id": "00814f15",
   "metadata": {},
   "outputs": [],
   "source": [
    "#PERFORMING TREATMENT IN DATAFRAME brasil USING DE FUNCTION BELOW:\n",
    "\n",
    "def limpar_df_br(df):\n",
    "    '''This function performs the following steps on any project dataframe: cleans columns and rows that are not relevant to the analysis;\n",
    "    performs substitutions in order to improve aesthetics and finally filters the results only from GLP.'''\n",
    "    import pandas as pd\n",
    "    import numpy as np\n",
    "    from datetime import datetime\n",
    "    df = df.rename(columns = {'AGÊNCIA NACIONAL DO PETRÓLEO, GÁS NATURAL E BIOCOMBUSTÍVEIS - ANP':'DATA INICIAL','Unnamed: 1':'DATA FINAL', 'Unnamed: 2':'PRODUTO','Unnamed: 3':'NÚMERO DE POSTOS PESQUISADOS','Unnamed: 4':'UNIDADE DE MEDIDA','Unnamed: 5':'PREÇO MÉDIO REVENDA','Unnamed: 6':'DESVIO PADRÃO REVENDA','Unnamed: 7':'PREÇO MÍNIMO REVENDA','Unnamed: 8':'PREÇO MÁXIMO REVENDA','Unnamed: 9':'MARGEM MÉDIA REVENDA','Unnamed: 10':'COEF DE VARIAÇÃO REVENDA','Unnamed: 11':'PREÇO MÉDIO DISTRIBUIÇÃO','Unnamed: 12':'DESVIO PADRÃO DISTRIBUIÇÃO','Unnamed: 13':'PREÇO MÍNIMO DISTRIBUIÇÃO','Unnamed: 14':'PREÇO MÁXIMO DISTRIBUIÇÃO','Unnamed: 15':'COEF DE VARIAÇÃO DISTRIBUIÇÃO'})\n",
    "    df_1 = df.drop(index=range(0, 17)).drop(columns=['DATA INICIAL', 'DESVIO PADRÃO REVENDA', 'MARGEM MÉDIA REVENDA','COEF DE VARIAÇÃO REVENDA', 'PREÇO MÉDIO DISTRIBUIÇÃO','DESVIO PADRÃO DISTRIBUIÇÃO',\t'PREÇO MÍNIMO DISTRIBUIÇÃO','PREÇO MÁXIMO DISTRIBUIÇÃO','COEF DE VARIAÇÃO DISTRIBUIÇÃO'])\n",
    "    df_limpo = df_1.loc[df_1['PRODUTO'] == 'GLP']\n",
    "    df_limpo = df_limpo.replace('-', 'Não Informado').replace('R$/13Kg', '13Kg').replace('R$/13kg', '13Kg')\n",
    "    df_limpo['DATA FINAL'] = pd.to_datetime(df_limpo['DATA FINAL'])\n",
    "    df_limpo['DATA FINAL'] = df_limpo['DATA FINAL'].apply(lambda x: datetime.strftime(x, '%b-%Y'))\n",
    "    df_limpo = df_limpo.set_index('DATA FINAL')\n",
    "    df_limpo = df_limpo.reset_index()\n",
    "    df_limpo = df_limpo.rename(columns = {'DATA FINAL': 'DATA'})\n",
    "    df_limpo['DATA'] = pd.to_datetime('01-'+df_limpo['DATA'])\n",
    "    \n",
    "    \n",
    "    return df_limpo\n"
   ]
  },
  {
   "cell_type": "code",
   "execution_count": 46,
   "id": "19ff2577",
   "metadata": {},
   "outputs": [],
   "source": [
    "# NEW DATAFRAME TREATED (glp_br):\n",
    "glp_br = limpar_df_br(brasil)\n"
   ]
  },
  {
   "cell_type": "markdown",
   "id": "3bdd1366-dd40-4537-993c-6e70a4a2380c",
   "metadata": {
    "jp-MarkdownHeadingCollapsed": true,
    "tags": []
   },
   "source": [
    "### DATAFRAME estado"
   ]
  },
  {
   "cell_type": "code",
   "execution_count": 14,
   "id": "1e2bb194",
   "metadata": {
    "tags": []
   },
   "outputs": [],
   "source": [
    "#PERFORMING TREATMENT IN DATAFRAME estados USING DE FUNCTION BELOW:\n",
    "\n",
    "def limpar_df_estado(df):\n",
    "    '''This function performs the following steps on any project dataframe: cleans columns and rows that are not relevant to the analysis;\n",
    "    performs substitutions in order to improve aesthetics and finally filters the results only from GLP.'''\n",
    "    import pandas as pd\n",
    "    import numpy as np\n",
    "    from datetime import datetime   \n",
    "    df = df.drop(index=range(0, 17)).drop(columns = ['AGÊNCIA NACIONAL DO PETRÓLEO, GÁS NATURAL E BIOCOMBUSTÍVEIS - ANP', 'Unnamed: 8', 'Unnamed: 11','Unnamed: 12','Unnamed: 13','Unnamed: 14','Unnamed: 15','Unnamed: 16','Unnamed: 17'])\n",
    "    estados_limpo = df.rename(columns = {'Unnamed: 1':'DATA FINAL', 'Unnamed: 2':'REGIÃO','Unnamed: 3':'ESTADO','Unnamed: 4':'PRODUTO','Unnamed: 5':'NÚMERO DE POSTOS PESQUISADOS','Unnamed: 6':'UNIDADE DE MEDIDA','Unnamed: 7':'PREÇO MÉDIO REVENDA','Unnamed: 9':'PREÇO MÍNIMO REVENDA','Unnamed: 10':'PREÇO MÁXIMO REVENDA'})\n",
    "    df_limpo = estados_limpo.loc[estados_limpo['PRODUTO'] == 'GLP']\n",
    "    df_limpo = df_limpo.replace('-', 'Não Informado').replace('R$/13Kg', '13Kg').replace('R$/13kg', '13Kg')\n",
    "    df_limpo['DATA FINAL'] = pd.to_datetime(df_limpo['DATA FINAL'])\n",
    "    df_limpo['DATA FINAL'] = df_limpo['DATA FINAL'].apply(lambda x: datetime.strftime(x, '%b-%Y'))\n",
    "    df_limpo = df_limpo.set_index('DATA FINAL')\n",
    "    df_limpo.index.name = 'DATA'\n",
    "    df_limpo = df_limpo.reset_index()\n",
    "    df_limpo['DATA'] = pd.to_datetime('01-'+df_limpo['DATA'])\n",
    "    \n",
    "    return df_limpo\n"
   ]
  },
  {
   "cell_type": "code",
   "execution_count": 45,
   "id": "e544c256",
   "metadata": {},
   "outputs": [],
   "source": [
    "# NEW DATAFRAME TREATED (glp_regioes):\n",
    "glp_regioes = limpar_df_estado(estados)"
   ]
  },
  {
   "cell_type": "markdown",
   "id": "b4ca58f8-3661-46ef-acf4-563187c7e7b1",
   "metadata": {
    "jp-MarkdownHeadingCollapsed": true,
    "tags": []
   },
   "source": [
    "### DATAFRAME margens_13"
   ]
  },
  {
   "cell_type": "code",
   "execution_count": 16,
   "id": "6816115b",
   "metadata": {},
   "outputs": [],
   "source": [
    "# DEFINING THE FUNCTION THAT EXTRACTS BRAZIL ONLY FROM THE GROUP:\n",
    "def brasil_icms(margens_13, estado):\n",
    "    \n",
    "    '''THIS FUNCTION CARRIES OUT THE CLEANING TREATMENT OF THE 'margens_13' DATAFRAME, AIMED AT RETURNING GENERAL DATA FOR BRAZIL.'''\n",
    "    \n",
    "    df = margens_13.drop(columns = {'Obs: A partir de abril/04, passou a vigorar a nova sistemática de cobrança de ICMS de GLP em 11 estados (AM, AL, BA, CE, MA, RN, PA, PB, PE, RJ e SE), que consideram que parte do\\rproduto é produzido a partir do gás natural.\\rA parcela referente à bi-tributação de ICMS nestes estados está incluída na Margem Bruta de Distribuição.\\r(1) A Resolução G SEFAZ n.o 13/08, de 22/09/08, incluiu o GLP acondicionado em recipientes transportáveis com capacidade de até 13 kg, destinado ao consumo doméstico, na lista\\rde mercadorias integrantes da cesta básica. Dessa forma, sua alíquota de ICMS caiu de 17% para 1%, conforme Resolução G SEFAZ n.o 11/08, de 14/08/08. A Lei Estadual n.o 3.361,\\rde 30/12/2008, em vigor a partir de 1o de janeiro de 2009, isentou do ICMS as operações internas com GLP destinado ao consumo doméstico e acondicionado em recipientes\\rtransportáveis com capacidade de até 13 kg. A alínea \"b\" da Lei Complementar Estadual no 112, de 21/12/2012, em vigor desde 1/4/2013, alterou para 17% o valor da alíquota de\\rICMS das operações internas com GLP.\\r(2) Não foi possível calcular as margens brutas de distribuição e de revenda em função da ausência de preços de distribuição.\\rNotas:\\rPreços de Produtores:\\rDesde janeiro de 2002, preços informados, semanalmente, pelos produtores e importadores, nos termos da Portaria ANP n.o 297, de 18/12/2001.\\rEm contrapartida à retirada do subsídio aos preços de GLP, foi instituído, por meio do Decreto n.o 4.102, de 24/01/2002, o programa \"Auxílio-Gás\" no valor de R$ 7,50 / mês para\\rfamílias de baixa renda, posteriormente unificado pelo programa \"Bolsa-Família\" por meio da Lei n.o 10.836, de 09 de janeiro de 2004.\\rOs preços referem-se às vendas de GLP por botijão de 13 kg.\\rICMS:\\rAs alíquotas, as margens de valor agregado e os preços médios ponderados ao consumidor final (PMPF) são estabelecidos por Convênios CONFAZ e Atos COTEPE e variam de estado\\rpara estado.\\rPara formação do preço Brasil, o ICMS foi calculado com base nos valores de cada estado, ponderado pelos  respectivos volumes de comercialização.\\rMargens de Distribuição e de Revenda:\\rCalculadas com base nos dados semanais do Levantamento de Preços e de Margens de Comercialização de Combustíveis da ANP, regulamentado pela Portaria ANP n.o 202, de\\r15/08/2000.\\rOs preços de distribuição podem, eventualmente, contemplar valores relativos à descontos por pagamentos de duplicatas no vencimento e por cumprimento de metas de vendas.'})\n",
    "    df = df.drop(columns = {'Unnamed: 6','Unnamed: 7','Unnamed: 8','Unnamed: 9','Unnamed: 2','Unnamed: 3','Unnamed: 4','Unnamed: 5'})\n",
    "    df = df.reset_index(drop=True).drop(index=[0,2,3,4,6,7,8,9,10,11,12])\n",
    "    df = df.replace('ICMS', '-')\n",
    "    df = df.rename(columns = {'Unnamed: 0':'ESTADO','Unnamed: 1':'ICMS em %'\t})\n",
    "    df = df.iloc[0:2]\n",
    "    df = df.reset_index(drop=True).drop(index=[0])\n",
    "    df.fillna(estado, inplace=True)\n",
    "    df = df.replace('ICMS', '-')\n",
    "    df = df.set_index('ESTADO')\n",
    "    \n",
    "    return df"
   ]
  },
  {
   "cell_type": "code",
   "execution_count": 17,
   "id": "4c8a0189",
   "metadata": {},
   "outputs": [],
   "source": [
    " # NEW DATAFRAME TREATED (brasil_icms_13):\n",
    " \n",
    " brasil_icms_13 = brasil_icms(margens_13, 'BRASIL' ).reset_index()"
   ]
  },
  {
   "cell_type": "code",
   "execution_count": 18,
   "id": "11ece8a2",
   "metadata": {},
   "outputs": [],
   "source": [
    "# DEFINING THE FUNCTION FOR THE STATE THAT DO NOT REQUIRE SPECIAL TREATMENT IN THE MAIN DATAFRAME:\n",
    "def acre_icms_13(margens_13, estado):\n",
    "    \n",
    "    '''THIS FUNCTION CARRIES OUT THE CLEANING TREATMENT OF THE DATAFRAME 'margens_13', AIMED AT RETURNING GENERAL DATA TO THE STATE DEFINED IN THE FUNCTION ARGUMENT.'''\n",
    "    \n",
    "    df = margens_13.drop(columns = {'Obs: A partir de abril/04, passou a vigorar a nova sistemática de cobrança de ICMS de GLP em 11 estados (AM, AL, BA, CE, MA, RN, PA, PB, PE, RJ e SE), que consideram que parte do\\rproduto é produzido a partir do gás natural.\\rA parcela referente à bi-tributação de ICMS nestes estados está incluída na Margem Bruta de Distribuição.\\r(1) A Resolução G SEFAZ n.o 13/08, de 22/09/08, incluiu o GLP acondicionado em recipientes transportáveis com capacidade de até 13 kg, destinado ao consumo doméstico, na lista\\rde mercadorias integrantes da cesta básica. Dessa forma, sua alíquota de ICMS caiu de 17% para 1%, conforme Resolução G SEFAZ n.o 11/08, de 14/08/08. A Lei Estadual n.o 3.361,\\rde 30/12/2008, em vigor a partir de 1o de janeiro de 2009, isentou do ICMS as operações internas com GLP destinado ao consumo doméstico e acondicionado em recipientes\\rtransportáveis com capacidade de até 13 kg. A alínea \"b\" da Lei Complementar Estadual no 112, de 21/12/2012, em vigor desde 1/4/2013, alterou para 17% o valor da alíquota de\\rICMS das operações internas com GLP.\\r(2) Não foi possível calcular as margens brutas de distribuição e de revenda em função da ausência de preços de distribuição.\\rNotas:\\rPreços de Produtores:\\rDesde janeiro de 2002, preços informados, semanalmente, pelos produtores e importadores, nos termos da Portaria ANP n.o 297, de 18/12/2001.\\rEm contrapartida à retirada do subsídio aos preços de GLP, foi instituído, por meio do Decreto n.o 4.102, de 24/01/2002, o programa \"Auxílio-Gás\" no valor de R$ 7,50 / mês para\\rfamílias de baixa renda, posteriormente unificado pelo programa \"Bolsa-Família\" por meio da Lei n.o 10.836, de 09 de janeiro de 2004.\\rOs preços referem-se às vendas de GLP por botijão de 13 kg.\\rICMS:\\rAs alíquotas, as margens de valor agregado e os preços médios ponderados ao consumidor final (PMPF) são estabelecidos por Convênios CONFAZ e Atos COTEPE e variam de estado\\rpara estado.\\rPara formação do preço Brasil, o ICMS foi calculado com base nos valores de cada estado, ponderado pelos  respectivos volumes de comercialização.\\rMargens de Distribuição e de Revenda:\\rCalculadas com base nos dados semanais do Levantamento de Preços e de Margens de Comercialização de Combustíveis da ANP, regulamentado pela Portaria ANP n.o 202, de\\r15/08/2000.\\rOs preços de distribuição podem, eventualmente, contemplar valores relativos à descontos por pagamentos de duplicatas no vencimento e por cumprimento de metas de vendas.'})\n",
    "    df = df.drop(columns = {'Unnamed: 6','Unnamed: 7','Unnamed: 8','Unnamed: 9','Unnamed: 2','Unnamed: 3','Unnamed: 4','Unnamed: 5'})\n",
    "    df = df.reset_index(drop=True).drop(index=[0,2,3,4,6,7,8,9,10,11,12])\n",
    "    df = df.rename(columns = {'Unnamed: 0':'ESTADO','Unnamed: 1':'ICMS'\t})\n",
    "    df = df.reset_index(drop=True)\n",
    "    df = df.iloc[2:12]\n",
    "    df = df.drop(index = [2,3,4,6,7,8,9,10,11])\n",
    "    df= df.rename(columns = {'ICMS':'ICMS em %'})\n",
    "    df = df.replace('17%', estado).replace('ICMS','17%')\n",
    "    df = df.set_index('ESTADO')\n",
    "    \n",
    "    return df    "
   ]
  },
  {
   "cell_type": "code",
   "execution_count": 19,
   "id": "97db340c-dda3-4aba-9670-d2455e2c3321",
   "metadata": {},
   "outputs": [],
   "source": [
    "# NEW DATAFRAME TREATED (ac_13):\n",
    "\n",
    "ac_13 = acre_icms_13(margens_13, 'AC')"
   ]
  },
  {
   "cell_type": "code",
   "execution_count": 20,
   "id": "7d611414-04df-4251-b221-b070859e9a9b",
   "metadata": {},
   "outputs": [],
   "source": [
    "# DEFINING THE FUNCTION FOR THE STATE THAT DO NOT REQUIRE SPECIAL TREATMENT IN THE MAIN DATAFRAME:\n",
    "\n",
    "def alagoas_icms_13(margens_13, estado): \n",
    "    \n",
    "    '''THIS FUNCTION CARRIES OUT THE CLEANING TREATMENT OF THE DATAFRAME 'margens_13', AIMED AT RETURNING GENERAL DATA TO THE STATE DEFINED IN THE FUNCTION ARGUMENT.'''\n",
    "    \n",
    "    df = margens_13.drop(columns = {'Obs: A partir de abril/04, passou a vigorar a nova sistemática de cobrança de ICMS de GLP em 11 estados (AM, AL, BA, CE, MA, RN, PA, PB, PE, RJ e SE), que consideram que parte do\\rproduto é produzido a partir do gás natural.\\rA parcela referente à bi-tributação de ICMS nestes estados está incluída na Margem Bruta de Distribuição.\\r(1) A Resolução G SEFAZ n.o 13/08, de 22/09/08, incluiu o GLP acondicionado em recipientes transportáveis com capacidade de até 13 kg, destinado ao consumo doméstico, na lista\\rde mercadorias integrantes da cesta básica. Dessa forma, sua alíquota de ICMS caiu de 17% para 1%, conforme Resolução G SEFAZ n.o 11/08, de 14/08/08. A Lei Estadual n.o 3.361,\\rde 30/12/2008, em vigor a partir de 1o de janeiro de 2009, isentou do ICMS as operações internas com GLP destinado ao consumo doméstico e acondicionado em recipientes\\rtransportáveis com capacidade de até 13 kg. A alínea \"b\" da Lei Complementar Estadual no 112, de 21/12/2012, em vigor desde 1/4/2013, alterou para 17% o valor da alíquota de\\rICMS das operações internas com GLP.\\r(2) Não foi possível calcular as margens brutas de distribuição e de revenda em função da ausência de preços de distribuição.\\rNotas:\\rPreços de Produtores:\\rDesde janeiro de 2002, preços informados, semanalmente, pelos produtores e importadores, nos termos da Portaria ANP n.o 297, de 18/12/2001.\\rEm contrapartida à retirada do subsídio aos preços de GLP, foi instituído, por meio do Decreto n.o 4.102, de 24/01/2002, o programa \"Auxílio-Gás\" no valor de R$ 7,50 / mês para\\rfamílias de baixa renda, posteriormente unificado pelo programa \"Bolsa-Família\" por meio da Lei n.o 10.836, de 09 de janeiro de 2004.\\rOs preços referem-se às vendas de GLP por botijão de 13 kg.\\rICMS:\\rAs alíquotas, as margens de valor agregado e os preços médios ponderados ao consumidor final (PMPF) são estabelecidos por Convênios CONFAZ e Atos COTEPE e variam de estado\\rpara estado.\\rPara formação do preço Brasil, o ICMS foi calculado com base nos valores de cada estado, ponderado pelos  respectivos volumes de comercialização.\\rMargens de Distribuição e de Revenda:\\rCalculadas com base nos dados semanais do Levantamento de Preços e de Margens de Comercialização de Combustíveis da ANP, regulamentado pela Portaria ANP n.o 202, de\\r15/08/2000.\\rOs preços de distribuição podem, eventualmente, contemplar valores relativos à descontos por pagamentos de duplicatas no vencimento e por cumprimento de metas de vendas.'})\n",
    "    df = df.drop(columns = {'Unnamed: 6','Unnamed: 7','Unnamed: 8','Unnamed: 9','Unnamed: 2','Unnamed: 3','Unnamed: 4','Unnamed: 5'})\n",
    "    df = df.reset_index(drop=True).drop(index=[0,2,3,4,6,7,8,9,10,11,12])\n",
    "    df = df.rename(columns = {'Unnamed: 0':'ESTADO','Unnamed: 1':'ICMS'\t})\n",
    "    df = df.reset_index(drop=True)\n",
    "    df = df.iloc[13:21]\n",
    "    df = df.drop(index = [13,14,15,17,18,19,20])\n",
    "    df= df.rename(columns = {'ICMS':'ICMS em %'})\n",
    "    df = df.replace('17%', estado).replace('ICMS','17%')\n",
    "    df = df.set_index('ESTADO')\n",
    "   \n",
    "    return df"
   ]
  },
  {
   "cell_type": "code",
   "execution_count": 21,
   "id": "a20995ca-1393-45c6-a7a8-e606fa78f0cd",
   "metadata": {},
   "outputs": [],
   "source": [
    "# NEW DATAFRAME TREATED (al_13):\n",
    " \n",
    "al_13 = alagoas_icms_13(margens_13,'AL')"
   ]
  },
  {
   "cell_type": "code",
   "execution_count": 22,
   "id": "57db1823-c089-491b-9c34-32940111bebf",
   "metadata": {},
   "outputs": [],
   "source": [
    "# DEFINING THE FUNCTION FOR THE STATE THAT DO NOT REQUIRE SPECIAL TREATMENT IN THE MAIN DATAFRAME:\n",
    "\n",
    "def ceara_icms_13(margens_13, estado): \n",
    "    \n",
    "    '''THIS FUNCTION CARRIES OUT THE CLEANING TREATMENT OF THE DATAFRAME 'margens_13', AIMED AT RETURNING GENERAL DATA TO THE STATE DEFINED IN THE FUNCTION ARGUMENT.'''\n",
    "    \n",
    "    df = margens_13.drop(columns = {'Obs: A partir de abril/04, passou a vigorar a nova sistemática de cobrança de ICMS de GLP em 11 estados (AM, AL, BA, CE, MA, RN, PA, PB, PE, RJ e SE), que consideram que parte do\\rproduto é produzido a partir do gás natural.\\rA parcela referente à bi-tributação de ICMS nestes estados está incluída na Margem Bruta de Distribuição.\\r(1) A Resolução G SEFAZ n.o 13/08, de 22/09/08, incluiu o GLP acondicionado em recipientes transportáveis com capacidade de até 13 kg, destinado ao consumo doméstico, na lista\\rde mercadorias integrantes da cesta básica. Dessa forma, sua alíquota de ICMS caiu de 17% para 1%, conforme Resolução G SEFAZ n.o 11/08, de 14/08/08. A Lei Estadual n.o 3.361,\\rde 30/12/2008, em vigor a partir de 1o de janeiro de 2009, isentou do ICMS as operações internas com GLP destinado ao consumo doméstico e acondicionado em recipientes\\rtransportáveis com capacidade de até 13 kg. A alínea \"b\" da Lei Complementar Estadual no 112, de 21/12/2012, em vigor desde 1/4/2013, alterou para 17% o valor da alíquota de\\rICMS das operações internas com GLP.\\r(2) Não foi possível calcular as margens brutas de distribuição e de revenda em função da ausência de preços de distribuição.\\rNotas:\\rPreços de Produtores:\\rDesde janeiro de 2002, preços informados, semanalmente, pelos produtores e importadores, nos termos da Portaria ANP n.o 297, de 18/12/2001.\\rEm contrapartida à retirada do subsídio aos preços de GLP, foi instituído, por meio do Decreto n.o 4.102, de 24/01/2002, o programa \"Auxílio-Gás\" no valor de R$ 7,50 / mês para\\rfamílias de baixa renda, posteriormente unificado pelo programa \"Bolsa-Família\" por meio da Lei n.o 10.836, de 09 de janeiro de 2004.\\rOs preços referem-se às vendas de GLP por botijão de 13 kg.\\rICMS:\\rAs alíquotas, as margens de valor agregado e os preços médios ponderados ao consumidor final (PMPF) são estabelecidos por Convênios CONFAZ e Atos COTEPE e variam de estado\\rpara estado.\\rPara formação do preço Brasil, o ICMS foi calculado com base nos valores de cada estado, ponderado pelos  respectivos volumes de comercialização.\\rMargens de Distribuição e de Revenda:\\rCalculadas com base nos dados semanais do Levantamento de Preços e de Margens de Comercialização de Combustíveis da ANP, regulamentado pela Portaria ANP n.o 202, de\\r15/08/2000.\\rOs preços de distribuição podem, eventualmente, contemplar valores relativos à descontos por pagamentos de duplicatas no vencimento e por cumprimento de metas de vendas.'})\n",
    "    df = df.drop(columns = {'Unnamed: 6','Unnamed: 7','Unnamed: 8','Unnamed: 9','Unnamed: 2','Unnamed: 3','Unnamed: 4','Unnamed: 5'})\n",
    "    df = df.reset_index(drop=True).drop(index=[0,2,3,4,6,7,8,9,10,11,12])\n",
    "    df = df.rename(columns = {'Unnamed: 0':'ESTADO','Unnamed: 1':'ICMS'\t})\n",
    "    df = df.reset_index(drop=True)\n",
    "    df = df.iloc[27:38]\n",
    "    df = df.drop(index = [27,28,29,31,32,33,34,35,36,37])\n",
    "    df= df.rename(columns = {'ICMS':'ICMS em %'})\n",
    "    df = df.replace('17%', estado).replace('ICMS','17%')\n",
    "    df = df.set_index('ESTADO')\n",
    "    \n",
    "    return df"
   ]
  },
  {
   "cell_type": "code",
   "execution_count": 23,
   "id": "103095e9-deb7-45a6-9df8-ae41401793ab",
   "metadata": {},
   "outputs": [],
   "source": [
    "# NEW DATAFRAME TREATED (ce_13):\n",
    "\n",
    "ce_13 = ceara_icms_13(margens_13,'CE')"
   ]
  },
  {
   "cell_type": "code",
   "execution_count": 24,
   "id": "effd8d8d-2c2f-420c-8ea2-7b4381768b6f",
   "metadata": {},
   "outputs": [],
   "source": [
    "# DEFINING THE FUNCTION FOR THE STATE THAT DO NOT REQUIRE SPECIAL TREATMENT IN THE MAIN DATAFRAME:\n",
    "\n",
    "def distrito_icms_13(margens_13, estado): \n",
    "    \n",
    "    '''THIS FUNCTION CARRIES OUT THE CLEANING TREATMENT OF THE DATAFRAME 'margens_13', AIMED AT RETURNING GENERAL DATA TO THE STATE DEFINED IN THE FUNCTION ARGUMENT.'''\n",
    "    \n",
    "    df = margens_13.drop(columns = {'Obs: A partir de abril/04, passou a vigorar a nova sistemática de cobrança de ICMS de GLP em 11 estados (AM, AL, BA, CE, MA, RN, PA, PB, PE, RJ e SE), que consideram que parte do\\rproduto é produzido a partir do gás natural.\\rA parcela referente à bi-tributação de ICMS nestes estados está incluída na Margem Bruta de Distribuição.\\r(1) A Resolução G SEFAZ n.o 13/08, de 22/09/08, incluiu o GLP acondicionado em recipientes transportáveis com capacidade de até 13 kg, destinado ao consumo doméstico, na lista\\rde mercadorias integrantes da cesta básica. Dessa forma, sua alíquota de ICMS caiu de 17% para 1%, conforme Resolução G SEFAZ n.o 11/08, de 14/08/08. A Lei Estadual n.o 3.361,\\rde 30/12/2008, em vigor a partir de 1o de janeiro de 2009, isentou do ICMS as operações internas com GLP destinado ao consumo doméstico e acondicionado em recipientes\\rtransportáveis com capacidade de até 13 kg. A alínea \"b\" da Lei Complementar Estadual no 112, de 21/12/2012, em vigor desde 1/4/2013, alterou para 17% o valor da alíquota de\\rICMS das operações internas com GLP.\\r(2) Não foi possível calcular as margens brutas de distribuição e de revenda em função da ausência de preços de distribuição.\\rNotas:\\rPreços de Produtores:\\rDesde janeiro de 2002, preços informados, semanalmente, pelos produtores e importadores, nos termos da Portaria ANP n.o 297, de 18/12/2001.\\rEm contrapartida à retirada do subsídio aos preços de GLP, foi instituído, por meio do Decreto n.o 4.102, de 24/01/2002, o programa \"Auxílio-Gás\" no valor de R$ 7,50 / mês para\\rfamílias de baixa renda, posteriormente unificado pelo programa \"Bolsa-Família\" por meio da Lei n.o 10.836, de 09 de janeiro de 2004.\\rOs preços referem-se às vendas de GLP por botijão de 13 kg.\\rICMS:\\rAs alíquotas, as margens de valor agregado e os preços médios ponderados ao consumidor final (PMPF) são estabelecidos por Convênios CONFAZ e Atos COTEPE e variam de estado\\rpara estado.\\rPara formação do preço Brasil, o ICMS foi calculado com base nos valores de cada estado, ponderado pelos  respectivos volumes de comercialização.\\rMargens de Distribuição e de Revenda:\\rCalculadas com base nos dados semanais do Levantamento de Preços e de Margens de Comercialização de Combustíveis da ANP, regulamentado pela Portaria ANP n.o 202, de\\r15/08/2000.\\rOs preços de distribuição podem, eventualmente, contemplar valores relativos à descontos por pagamentos de duplicatas no vencimento e por cumprimento de metas de vendas.'})\n",
    "    df = df.drop(columns = {'Unnamed: 6','Unnamed: 7','Unnamed: 8','Unnamed: 9','Unnamed: 2','Unnamed: 3','Unnamed: 4','Unnamed: 5'})\n",
    "    df = df.reset_index(drop=True).drop(index=[0,2,3,4,6,7,8,9,10,11,12])\n",
    "    df = df.rename(columns = {'Unnamed: 0':'ESTADO','Unnamed: 1':'ICMS'\t})\n",
    "    df = df.reset_index(drop=True)\n",
    "    df = df.iloc[38:49]\n",
    "    df = df.drop(index = [38,39,40,42,43,44,45,46,47,48])\n",
    "    df= df.rename(columns = {'ICMS':'ICMS em %'})\n",
    "    df = df.replace('12%', estado).replace('ICMS','12%')\n",
    "    df = df.set_index('ESTADO')\n",
    "    \n",
    "    return df"
   ]
  },
  {
   "cell_type": "code",
   "execution_count": 25,
   "id": "745c9cb6-5d9b-43a8-ba60-85d9b32e097c",
   "metadata": {},
   "outputs": [],
   "source": [
    "# NEW DATAFRAME TREATED (distrito_13):\n",
    "\n",
    "distrito_13 = distrito_icms_13(margens_13,'DF')"
   ]
  },
  {
   "cell_type": "code",
   "execution_count": 26,
   "id": "1b52f046-debf-4bad-b451-028811ba763a",
   "metadata": {},
   "outputs": [],
   "source": [
    "# DEFINING THE FUNCTION FOR THE STATE THAT DO NOT REQUIRE SPECIAL TREATMENT IN THE MAIN DATAFRAME:\n",
    "\n",
    "def piaui_icms_13(margens_13, estado): \n",
    "    \n",
    "    '''THIS FUNCTION CARRIES OUT THE CLEANING TREATMENT OF THE DATAFRAME 'margens_13', AIMED AT RETURNING GENERAL DATA TO THE STATE DEFINED IN THE FUNCTION ARGUMENT.'''\n",
    "    \n",
    "    df = margens_13.drop(columns = {'Obs: A partir de abril/04, passou a vigorar a nova sistemática de cobrança de ICMS de GLP em 11 estados (AM, AL, BA, CE, MA, RN, PA, PB, PE, RJ e SE), que consideram que parte do\\rproduto é produzido a partir do gás natural.\\rA parcela referente à bi-tributação de ICMS nestes estados está incluída na Margem Bruta de Distribuição.\\r(1) A Resolução G SEFAZ n.o 13/08, de 22/09/08, incluiu o GLP acondicionado em recipientes transportáveis com capacidade de até 13 kg, destinado ao consumo doméstico, na lista\\rde mercadorias integrantes da cesta básica. Dessa forma, sua alíquota de ICMS caiu de 17% para 1%, conforme Resolução G SEFAZ n.o 11/08, de 14/08/08. A Lei Estadual n.o 3.361,\\rde 30/12/2008, em vigor a partir de 1o de janeiro de 2009, isentou do ICMS as operações internas com GLP destinado ao consumo doméstico e acondicionado em recipientes\\rtransportáveis com capacidade de até 13 kg. A alínea \"b\" da Lei Complementar Estadual no 112, de 21/12/2012, em vigor desde 1/4/2013, alterou para 17% o valor da alíquota de\\rICMS das operações internas com GLP.\\r(2) Não foi possível calcular as margens brutas de distribuição e de revenda em função da ausência de preços de distribuição.\\rNotas:\\rPreços de Produtores:\\rDesde janeiro de 2002, preços informados, semanalmente, pelos produtores e importadores, nos termos da Portaria ANP n.o 297, de 18/12/2001.\\rEm contrapartida à retirada do subsídio aos preços de GLP, foi instituído, por meio do Decreto n.o 4.102, de 24/01/2002, o programa \"Auxílio-Gás\" no valor de R$ 7,50 / mês para\\rfamílias de baixa renda, posteriormente unificado pelo programa \"Bolsa-Família\" por meio da Lei n.o 10.836, de 09 de janeiro de 2004.\\rOs preços referem-se às vendas de GLP por botijão de 13 kg.\\rICMS:\\rAs alíquotas, as margens de valor agregado e os preços médios ponderados ao consumidor final (PMPF) são estabelecidos por Convênios CONFAZ e Atos COTEPE e variam de estado\\rpara estado.\\rPara formação do preço Brasil, o ICMS foi calculado com base nos valores de cada estado, ponderado pelos  respectivos volumes de comercialização.\\rMargens de Distribuição e de Revenda:\\rCalculadas com base nos dados semanais do Levantamento de Preços e de Margens de Comercialização de Combustíveis da ANP, regulamentado pela Portaria ANP n.o 202, de\\r15/08/2000.\\rOs preços de distribuição podem, eventualmente, contemplar valores relativos à descontos por pagamentos de duplicatas no vencimento e por cumprimento de metas de vendas.'})\n",
    "    df = df.drop(columns = {'Unnamed: 6','Unnamed: 7','Unnamed: 8','Unnamed: 9','Unnamed: 2','Unnamed: 3','Unnamed: 4','Unnamed: 5'})\n",
    "    df = df.reset_index(drop=True).drop(index=[0,2,3,4,6,7,8,9,10,11,12])\n",
    "    df = df.rename(columns = {'Unnamed: 0':'ESTADO','Unnamed: 1':'ICMS'\t})\n",
    "    df = df.reset_index(drop=True)\n",
    "    df = df.iloc[69:80]\n",
    "    df = df.drop(index = [69,70,71,73,74,75,76,77,78,79])\n",
    "    df= df.rename(columns = {'ICMS':'ICMS em %'})\n",
    "    df = df.replace('17%', estado).replace('ICMS','17%')\n",
    "    df = df.set_index('ESTADO')\n",
    "    \n",
    "    return df"
   ]
  },
  {
   "cell_type": "code",
   "execution_count": 27,
   "id": "97a90812-d1dd-44b1-a453-dda02a12bf02",
   "metadata": {},
   "outputs": [],
   "source": [
    "# NEW DATAFRAME TREATED (pi_13):\n",
    "\n",
    "pi_13 = piaui_icms_13(margens_13,'PI')"
   ]
  },
  {
   "cell_type": "code",
   "execution_count": 28,
   "id": "a28672ea-82c3-412a-8101-50da839b3320",
   "metadata": {},
   "outputs": [],
   "source": [
    "# DEFINING THE FUNCTION FOR THE STATE THAT DO NOT REQUIRE SPECIAL TREATMENT IN THE MAIN DATAFRAME:\n",
    "\n",
    "def espirito_icms_13(margens_13, estado): \n",
    "    \n",
    "    '''THIS FUNCTION CARRIES OUT THE CLEANING TREATMENT OF THE DATAFRAME 'margens_13', AIMED AT RETURNING GENERAL DATA TO THE STATE DEFINED IN THE FUNCTION ARGUMENT.'''\n",
    "    \n",
    "    df = margens_13.drop(columns = {'Obs: A partir de abril/04, passou a vigorar a nova sistemática de cobrança de ICMS de GLP em 11 estados (AM, AL, BA, CE, MA, RN, PA, PB, PE, RJ e SE), que consideram que parte do\\rproduto é produzido a partir do gás natural.\\rA parcela referente à bi-tributação de ICMS nestes estados está incluída na Margem Bruta de Distribuição.\\r(1) A Resolução G SEFAZ n.o 13/08, de 22/09/08, incluiu o GLP acondicionado em recipientes transportáveis com capacidade de até 13 kg, destinado ao consumo doméstico, na lista\\rde mercadorias integrantes da cesta básica. Dessa forma, sua alíquota de ICMS caiu de 17% para 1%, conforme Resolução G SEFAZ n.o 11/08, de 14/08/08. A Lei Estadual n.o 3.361,\\rde 30/12/2008, em vigor a partir de 1o de janeiro de 2009, isentou do ICMS as operações internas com GLP destinado ao consumo doméstico e acondicionado em recipientes\\rtransportáveis com capacidade de até 13 kg. A alínea \"b\" da Lei Complementar Estadual no 112, de 21/12/2012, em vigor desde 1/4/2013, alterou para 17% o valor da alíquota de\\rICMS das operações internas com GLP.\\r(2) Não foi possível calcular as margens brutas de distribuição e de revenda em função da ausência de preços de distribuição.\\rNotas:\\rPreços de Produtores:\\rDesde janeiro de 2002, preços informados, semanalmente, pelos produtores e importadores, nos termos da Portaria ANP n.o 297, de 18/12/2001.\\rEm contrapartida à retirada do subsídio aos preços de GLP, foi instituído, por meio do Decreto n.o 4.102, de 24/01/2002, o programa \"Auxílio-Gás\" no valor de R$ 7,50 / mês para\\rfamílias de baixa renda, posteriormente unificado pelo programa \"Bolsa-Família\" por meio da Lei n.o 10.836, de 09 de janeiro de 2004.\\rOs preços referem-se às vendas de GLP por botijão de 13 kg.\\rICMS:\\rAs alíquotas, as margens de valor agregado e os preços médios ponderados ao consumidor final (PMPF) são estabelecidos por Convênios CONFAZ e Atos COTEPE e variam de estado\\rpara estado.\\rPara formação do preço Brasil, o ICMS foi calculado com base nos valores de cada estado, ponderado pelos  respectivos volumes de comercialização.\\rMargens de Distribuição e de Revenda:\\rCalculadas com base nos dados semanais do Levantamento de Preços e de Margens de Comercialização de Combustíveis da ANP, regulamentado pela Portaria ANP n.o 202, de\\r15/08/2000.\\rOs preços de distribuição podem, eventualmente, contemplar valores relativos à descontos por pagamentos de duplicatas no vencimento e por cumprimento de metas de vendas.'})\n",
    "    df = df.drop(columns = {'Unnamed: 6','Unnamed: 7','Unnamed: 8','Unnamed: 9','Unnamed: 2','Unnamed: 3','Unnamed: 4','Unnamed: 5'})\n",
    "    df = df.reset_index(drop=True).drop(index=[0,2,3,4,6,7,8,9,10,11,12])\n",
    "    df = df.rename(columns = {'Unnamed: 0':'ESTADO','Unnamed: 1':'ICMS'\t})\n",
    "    df = df.reset_index(drop=True)\n",
    "    df = df.iloc[49:57]\n",
    "    df = df.drop(index = [49,50,51,53,54,55,56])\n",
    "    df= df.rename(columns = {'ICMS':'ICMS em %'})\n",
    "    df = df.replace('17%', estado).replace('ICMS','17%')\n",
    "    df = df.set_index('ESTADO')\n",
    "    \n",
    "    return df"
   ]
  },
  {
   "cell_type": "code",
   "execution_count": 29,
   "id": "44151fa1-7308-4e3d-a58d-f403188a3fc8",
   "metadata": {},
   "outputs": [],
   "source": [
    "# NEW DATAFRAME TRATED (es_13):\n",
    "\n",
    "es_13 = espirito_icms_13(margens_13,'ES')"
   ]
  },
  {
   "cell_type": "code",
   "execution_count": 30,
   "id": "7c9ac529-0aac-4674-9cea-23205b1a5049",
   "metadata": {},
   "outputs": [],
   "source": [
    "# DEFINING THE FUNCTION FOR THE STATE THAT DO NOT REQUIRE SPECIAL TREATMENT IN THE MAIN DATAFRAME:\n",
    "\n",
    "def rj_icms_13(margens_13, estado): \n",
    "    \n",
    "    '''THIS FUNCTION CARRIES OUT THE CLEANING TREATMENT OF THE DATAFRAME 'margens_13', AIMED AT RETURNING GENERAL DATA TO THE STATE DEFINED IN THE FUNCTION ARGUMENT.'''\n",
    "    \n",
    "    df = margens_13.drop(columns = {'Obs: A partir de abril/04, passou a vigorar a nova sistemática de cobrança de ICMS de GLP em 11 estados (AM, AL, BA, CE, MA, RN, PA, PB, PE, RJ e SE), que consideram que parte do\\rproduto é produzido a partir do gás natural.\\rA parcela referente à bi-tributação de ICMS nestes estados está incluída na Margem Bruta de Distribuição.\\r(1) A Resolução G SEFAZ n.o 13/08, de 22/09/08, incluiu o GLP acondicionado em recipientes transportáveis com capacidade de até 13 kg, destinado ao consumo doméstico, na lista\\rde mercadorias integrantes da cesta básica. Dessa forma, sua alíquota de ICMS caiu de 17% para 1%, conforme Resolução G SEFAZ n.o 11/08, de 14/08/08. A Lei Estadual n.o 3.361,\\rde 30/12/2008, em vigor a partir de 1o de janeiro de 2009, isentou do ICMS as operações internas com GLP destinado ao consumo doméstico e acondicionado em recipientes\\rtransportáveis com capacidade de até 13 kg. A alínea \"b\" da Lei Complementar Estadual no 112, de 21/12/2012, em vigor desde 1/4/2013, alterou para 17% o valor da alíquota de\\rICMS das operações internas com GLP.\\r(2) Não foi possível calcular as margens brutas de distribuição e de revenda em função da ausência de preços de distribuição.\\rNotas:\\rPreços de Produtores:\\rDesde janeiro de 2002, preços informados, semanalmente, pelos produtores e importadores, nos termos da Portaria ANP n.o 297, de 18/12/2001.\\rEm contrapartida à retirada do subsídio aos preços de GLP, foi instituído, por meio do Decreto n.o 4.102, de 24/01/2002, o programa \"Auxílio-Gás\" no valor de R$ 7,50 / mês para\\rfamílias de baixa renda, posteriormente unificado pelo programa \"Bolsa-Família\" por meio da Lei n.o 10.836, de 09 de janeiro de 2004.\\rOs preços referem-se às vendas de GLP por botijão de 13 kg.\\rICMS:\\rAs alíquotas, as margens de valor agregado e os preços médios ponderados ao consumidor final (PMPF) são estabelecidos por Convênios CONFAZ e Atos COTEPE e variam de estado\\rpara estado.\\rPara formação do preço Brasil, o ICMS foi calculado com base nos valores de cada estado, ponderado pelos  respectivos volumes de comercialização.\\rMargens de Distribuição e de Revenda:\\rCalculadas com base nos dados semanais do Levantamento de Preços e de Margens de Comercialização de Combustíveis da ANP, regulamentado pela Portaria ANP n.o 202, de\\r15/08/2000.\\rOs preços de distribuição podem, eventualmente, contemplar valores relativos à descontos por pagamentos de duplicatas no vencimento e por cumprimento de metas de vendas.'})\n",
    "    df = df.drop(columns = {'Unnamed: 6','Unnamed: 7','Unnamed: 8','Unnamed: 9','Unnamed: 2','Unnamed: 3','Unnamed: 4','Unnamed: 5'})\n",
    "    df = df.reset_index(drop=True).drop(index=[0,2,3,4,6,7,8,9,10,11,12])\n",
    "    df = df.rename(columns = {'Unnamed: 0':'ESTADO','Unnamed: 1':'ICMS'\t})\n",
    "    df = df.reset_index(drop=True)\n",
    "    df = df.iloc[80:91]\n",
    "    df = df.drop(index = [80,81,82,84,85,86,87,88,89,90])\n",
    "    df= df.rename(columns = {'ICMS':'ICMS em %'})\n",
    "    df = df.replace('12%', estado).replace('ICMS','12%')\n",
    "    df = df.set_index('ESTADO')\n",
    "    \n",
    "    return df"
   ]
  },
  {
   "cell_type": "code",
   "execution_count": 31,
   "id": "e2cb3208-2031-4fe6-8bf7-e786d3151b6f",
   "metadata": {},
   "outputs": [],
   "source": [
    "# NEW DATAFRAME TREATED (rj_13):\n",
    "\n",
    "rj_13 = rj_icms_13(margens_13,'RJ')"
   ]
  },
  {
   "cell_type": "code",
   "execution_count": 32,
   "id": "85fae846-8fa4-4ddd-958a-bb2b8a712e84",
   "metadata": {},
   "outputs": [],
   "source": [
    "# DEFINING THE FUNCTION FOR THE STATE THAT DO NOT REQUIRE SPECIAL TREATMENT IN THE MAIN DATAFRAME:\n",
    "\n",
    "def rn_icms_13(margens_13, estado): \n",
    "    \n",
    "    '''THIS FUNCTION CARRIES OUT THE CLEANING TREATMENT OF THE DATAFRAME 'margens_13', AIMED AT RETURNING GENERAL DATA TO THE STATE DEFINED IN THE FUNCTION ARGUMENT.'''\n",
    "\n",
    "    df = margens_13.drop(columns = {'Obs: A partir de abril/04, passou a vigorar a nova sistemática de cobrança de ICMS de GLP em 11 estados (AM, AL, BA, CE, MA, RN, PA, PB, PE, RJ e SE), que consideram que parte do\\rproduto é produzido a partir do gás natural.\\rA parcela referente à bi-tributação de ICMS nestes estados está incluída na Margem Bruta de Distribuição.\\r(1) A Resolução G SEFAZ n.o 13/08, de 22/09/08, incluiu o GLP acondicionado em recipientes transportáveis com capacidade de até 13 kg, destinado ao consumo doméstico, na lista\\rde mercadorias integrantes da cesta básica. Dessa forma, sua alíquota de ICMS caiu de 17% para 1%, conforme Resolução G SEFAZ n.o 11/08, de 14/08/08. A Lei Estadual n.o 3.361,\\rde 30/12/2008, em vigor a partir de 1o de janeiro de 2009, isentou do ICMS as operações internas com GLP destinado ao consumo doméstico e acondicionado em recipientes\\rtransportáveis com capacidade de até 13 kg. A alínea \"b\" da Lei Complementar Estadual no 112, de 21/12/2012, em vigor desde 1/4/2013, alterou para 17% o valor da alíquota de\\rICMS das operações internas com GLP.\\r(2) Não foi possível calcular as margens brutas de distribuição e de revenda em função da ausência de preços de distribuição.\\rNotas:\\rPreços de Produtores:\\rDesde janeiro de 2002, preços informados, semanalmente, pelos produtores e importadores, nos termos da Portaria ANP n.o 297, de 18/12/2001.\\rEm contrapartida à retirada do subsídio aos preços de GLP, foi instituído, por meio do Decreto n.o 4.102, de 24/01/2002, o programa \"Auxílio-Gás\" no valor de R$ 7,50 / mês para\\rfamílias de baixa renda, posteriormente unificado pelo programa \"Bolsa-Família\" por meio da Lei n.o 10.836, de 09 de janeiro de 2004.\\rOs preços referem-se às vendas de GLP por botijão de 13 kg.\\rICMS:\\rAs alíquotas, as margens de valor agregado e os preços médios ponderados ao consumidor final (PMPF) são estabelecidos por Convênios CONFAZ e Atos COTEPE e variam de estado\\rpara estado.\\rPara formação do preço Brasil, o ICMS foi calculado com base nos valores de cada estado, ponderado pelos  respectivos volumes de comercialização.\\rMargens de Distribuição e de Revenda:\\rCalculadas com base nos dados semanais do Levantamento de Preços e de Margens de Comercialização de Combustíveis da ANP, regulamentado pela Portaria ANP n.o 202, de\\r15/08/2000.\\rOs preços de distribuição podem, eventualmente, contemplar valores relativos à descontos por pagamentos de duplicatas no vencimento e por cumprimento de metas de vendas.'})\n",
    "    df = df.drop(columns = {'Unnamed: 6','Unnamed: 7','Unnamed: 8','Unnamed: 9','Unnamed: 2','Unnamed: 3','Unnamed: 4','Unnamed: 5'})\n",
    "    df = df.reset_index(drop=True).drop(index=[0,2,3,4,6,7,8,9,10,11,12])\n",
    "    df = df.rename(columns = {'Unnamed: 0':'ESTADO','Unnamed: 1':'ICMS'\t})\n",
    "    df = df.reset_index(drop=True)\n",
    "    df = df.iloc[91:99]\n",
    "    df = df.drop(index = [91,92,93,95,96,97,98])\n",
    "    df= df.rename(columns = {'ICMS':'ICMS em %'})\n",
    "    df = df.replace('do produtor)', estado).replace('ICMS','17%')\n",
    "    df = df.set_index('ESTADO')\n",
    "    \n",
    "    return df"
   ]
  },
  {
   "cell_type": "code",
   "execution_count": 33,
   "id": "57ed6da7-ae31-4129-acca-9a0821d237d9",
   "metadata": {},
   "outputs": [],
   "source": [
    "# NEW DATAFRAME TREATED (rn_13):\n",
    "\n",
    "rn_13 = rn_icms_13(margens_13,'RN')"
   ]
  },
  {
   "cell_type": "code",
   "execution_count": 34,
   "id": "38ebf5e0-fed3-4197-b252-1bf8550ce9a6",
   "metadata": {},
   "outputs": [],
   "source": [
    "def limpar_meses_icms(df):\n",
    "    '''THIS FUNCTION USES THE 'margins_13' DATAFRAME TO CLEAN AND PROCESS GENERAL DATA WITH THE PURPOSE OF EXTRACTING THE ICMS FROM EACH STATE.'''\n",
    "    \n",
    "# GENERAL TREATMENT:\n",
    "    df = df.drop(columns = {'Obs: A partir de abril/04, passou a vigorar a nova sistemática de cobrança de ICMS de GLP em 11 estados (AM, AL, BA, CE, MA, RN, PA, PB, PE, RJ e SE), que consideram que parte do\\rproduto é produzido a partir do gás natural.\\rA parcela referente à bi-tributação de ICMS nestes estados está incluída na Margem Bruta de Distribuição.\\r(1) A Resolução G SEFAZ n.o 13/08, de 22/09/08, incluiu o GLP acondicionado em recipientes transportáveis com capacidade de até 13 kg, destinado ao consumo doméstico, na lista\\rde mercadorias integrantes da cesta básica. Dessa forma, sua alíquota de ICMS caiu de 17% para 1%, conforme Resolução G SEFAZ n.o 11/08, de 14/08/08. A Lei Estadual n.o 3.361,\\rde 30/12/2008, em vigor a partir de 1o de janeiro de 2009, isentou do ICMS as operações internas com GLP destinado ao consumo doméstico e acondicionado em recipientes\\rtransportáveis com capacidade de até 13 kg. A alínea \"b\" da Lei Complementar Estadual no 112, de 21/12/2012, em vigor desde 1/4/2013, alterou para 17% o valor da alíquota de\\rICMS das operações internas com GLP.\\r(2) Não foi possível calcular as margens brutas de distribuição e de revenda em função da ausência de preços de distribuição.\\rNotas:\\rPreços de Produtores:\\rDesde janeiro de 2002, preços informados, semanalmente, pelos produtores e importadores, nos termos da Portaria ANP n.o 297, de 18/12/2001.\\rEm contrapartida à retirada do subsídio aos preços de GLP, foi instituído, por meio do Decreto n.o 4.102, de 24/01/2002, o programa \"Auxílio-Gás\" no valor de R$ 7,50 / mês para\\rfamílias de baixa renda, posteriormente unificado pelo programa \"Bolsa-Família\" por meio da Lei n.o 10.836, de 09 de janeiro de 2004.\\rOs preços referem-se às vendas de GLP por botijão de 13 kg.\\rICMS:\\rAs alíquotas, as margens de valor agregado e os preços médios ponderados ao consumidor final (PMPF) são estabelecidos por Convênios CONFAZ e Atos COTEPE e variam de estado\\rpara estado.\\rPara formação do preço Brasil, o ICMS foi calculado com base nos valores de cada estado, ponderado pelos  respectivos volumes de comercialização.\\rMargens de Distribuição e de Revenda:\\rCalculadas com base nos dados semanais do Levantamento de Preços e de Margens de Comercialização de Combustíveis da ANP, regulamentado pela Portaria ANP n.o 202, de\\r15/08/2000.\\rOs preços de distribuição podem, eventualmente, contemplar valores relativos à descontos por pagamentos de duplicatas no vencimento e por cumprimento de metas de vendas.'})\n",
    "    df = df.drop(columns = {'Unnamed: 6','Unnamed: 7','Unnamed: 8','Unnamed: 9','Unnamed: 2','Unnamed: 3','Unnamed: 4','Unnamed: 5'})\n",
    "    df = df.reset_index(drop=True).drop(index=[0,2,3,4,6,7,8,9,10,11,12])\n",
    "    df = df.rename(columns = {'Unnamed: 0':'ESTADO','Unnamed: 1':'ICMS em %'})\n",
    "    df = df.reset_index(drop=True)\n",
    "    df = df.iloc[[21,22,23,57,58,59,60,61,62,63,64,65,99,100,101,102,103,104,105]]\n",
    "    lista_estado = ['AP','AM','BA','GO','MA','MT','MS','MG','PA','PB','PR','PE','RS','RO','RR','SC','SP','SE','TO']\n",
    "    lista_icms = ['12%','17%','12%','12%','17%','12%','12%','18%','17%','17%','12%','17%','12%','12%','17%','12%','12%','17%','12%']\n",
    "    df['ICMS em %'] = lista_icms\n",
    "    df['ESTADO'] = lista_estado\n",
    "\n",
    "#'jan/13' COLUMN TREATMENT:\n",
    "\n",
    "    df['jan/13'] = df['jan/13'].str.slice(start=33)\n",
    "    df['jan/13'] = df['jan/13'].str.replace(r'%\\r','',regex = True)\n",
    "    df['jan/13'] = df['jan/13'].str.slice(start=0, stop=4)\n",
    "    df['jan/13'] = df['jan/13'].str.replace('-\\r17','-')\n",
    "    df['jan/13'] = df['jan/13'].str.replace(',','.')\n",
    "\n",
    "#'fev/13' COLUMN TREATMENT:\n",
    "\n",
    "    df['fev/13'] = df['fev/13'].str.slice(start=33)\n",
    "    df['fev/13'] = df['fev/13'].str.replace(r'%\\r','',regex = True)\n",
    "    df['fev/13'] = df['fev/13'].str.slice(start=0, stop=4)\n",
    "    df['fev/13'] = df['fev/13'].str.replace('-\\r21','-')\n",
    "    df['fev/13'] = df['fev/13'].str.replace(',','.')\n",
    "\n",
    "\n",
    "#'mar/13' COLUMN TREATMENT:\n",
    "\n",
    "    df['mar/13'] = df['mar/13'].str.slice(start=33)\n",
    "    df['mar/13'] = df['mar/13'].str.replace(r'%\\r','',regex = True)\n",
    "    df['mar/13'] = df['mar/13'].str.slice(start=0, stop=4)\n",
    "    df['mar/13'] = df['mar/13'].str.replace('-\\r22','-')\n",
    "    df['mar/13'] = df['mar/13'].str.replace(',','.')\n",
    "\n",
    "\n",
    "#'abr/13' COLUMN TREATMENT:\n",
    "\n",
    "    df['abr/13'] = df['abr/13'].str.slice(start=33)\n",
    "    df['abr/13'] = df['abr/13'].str.replace(r'%\\r','',regex = True)\n",
    "    df['abr/13'] = df['abr/13'].str.slice(start=0, stop=4)\n",
    "    df['abr/13'] = df['abr/13'].str.replace(',','.')\n",
    "\n",
    "\n",
    "#'mai/13' COLUMN TREATMENT:\n",
    "\n",
    "    df['mai/13'] = df['mai/13'].str.slice(start=33)\n",
    "    df['mai/13'] = df['mai/13'].str.replace(r'%\\r','',regex = True)\n",
    "    df['mai/13'] = df['mai/13'].str.slice(start=0, stop=4)\n",
    "    df['mai/13'] = df['mai/13'].str.replace(',','.')\n",
    "\n",
    "\n",
    "#'jun/13' COLUMN TREATMENT:\n",
    "\n",
    "    df['jun/13'] = df['jun/13'].str.slice(start=33)\n",
    "    df['jun/13'] = df['jun/13'].str.replace(r'%\\r','',regex = True)\n",
    "    df['jun/13'] = df['jun/13'].str.slice(start=0, stop=4)\n",
    "    df['jun/13'] = df['jun/13'].str.replace(',','.')\n",
    "\n",
    "\n",
    "#'jul/13' COLUMN TREATMENT:\n",
    "\n",
    "    df['jul/13'] = df['jul/13'].str.slice(start=33)\n",
    "    df['jul/13'] = df['jul/13'].str.replace(r'%\\r','',regex = True)\n",
    "    df['jul/13'] = df['jul/13'].str.slice(start=0, stop=4)\n",
    "    df['jul/13'] = df['jul/13'].str.replace(',','.')\n",
    "\n",
    "\n",
    "#'ago/13' COLUMN TREATMENT:\n",
    "\n",
    "    df['ago/13'] = df['ago/13'].str.slice(start=33)\n",
    "    df['ago/13'] = df['ago/13'].str.replace(r'%\\r','',regex = True)\n",
    "    df['ago/13'] = df['ago/13'].str.slice(start=0, stop=4)\n",
    "    df['ago/13'] = df['ago/13'].str.replace(',','.')\n",
    "\n",
    "\n",
    "#'set/13' COLUMN TREATMENT:\n",
    "\n",
    "    df['set/13'] = df['set/13'].str.slice(start=33)\n",
    "    df['set/13'] = df['set/13'].str.replace(r'%\\r','',regex = True)\n",
    "    df['set/13'] = df['set/13'].str.slice(start=0, stop=4)\n",
    "    df['set/13'] = df['set/13'].str.replace(',','.')\n",
    "\n",
    "\n",
    "#'out/13' COLUMN TREATMENT:\n",
    "\n",
    "    df['out/13'] = df['out/13'].str.slice(start=33)\n",
    "    df['out/13'] = df['out/13'].str.replace(r'%\\r','',regex = True)\n",
    "    df['out/13'] = df['out/13'].str.slice(start=0, stop=4)\n",
    "    df['out/13'] = df['out/13'].str.replace(',','.')\n",
    "\n",
    "\n",
    "#'nov/13' COLUMN TREATMENT:\n",
    "\n",
    "    df['nov/13'] = df['nov/13'].str.slice(start=33)\n",
    "    df['nov/13'] = df['nov/13'].str.replace(r'%\\r','',regex = True)\n",
    "    df['nov/13'] = df['nov/13'].str.slice(start=0, stop=4)\n",
    "    df['nov/13'] = df['nov/13'].str.replace(',','.')\n",
    "\n",
    "\n",
    "#'dez/13' COLUMN TREATMENT:\n",
    "\n",
    "    df['dez/13'] = df['dez/13'].str.slice(start=33)\n",
    "    df['dez/13'] = df['dez/13'].str.replace(r'%\\r','',regex = True)\n",
    "    df['dez/13'] = df['dez/13'].str.slice(start=0, stop=4)\n",
    "    df['dez/13'] = df['dez/13'].str.replace(',','.')\n",
    "\n",
    "# TRANSFORMING COLUMN 'ESTADO' IN INDEX:\n",
    "    df = df.set_index('ESTADO')\n",
    "\n",
    "    return df"
   ]
  },
  {
   "cell_type": "code",
   "execution_count": 35,
   "id": "157479c5-f71c-466a-aaf0-6529f03a8dcf",
   "metadata": {},
   "outputs": [],
   "source": [
    "# NEW DATAFRAME TREATED (faltantes_icms):\n",
    "\n",
    "faltantes_icms = limpar_meses_icms(margens_13)"
   ]
  },
  {
   "cell_type": "markdown",
   "id": "c082b975-47e1-4537-bfcb-ec30c1c2e0fc",
   "metadata": {
    "jp-MarkdownHeadingCollapsed": true,
    "tags": []
   },
   "source": [
    "### CONCATENATING THE ICMS TABLES BY STATE IN A NEW DATAFRAME"
   ]
  },
  {
   "cell_type": "code",
   "execution_count": 36,
   "id": "d407a095-a14b-4b79-b383-fc1a1a12af85",
   "metadata": {},
   "outputs": [],
   "source": [
    "# NEW DATAFRAME TREATED (estados_icms_2013):\n",
    "\n",
    "estados_icms_2013 = pd.concat([faltantes_icms, ac_13, al_13, ce_13, distrito_13, pi_13, es_13, rj_13, rn_13 ], axis=0).reset_index()"
   ]
  },
  {
   "cell_type": "markdown",
   "id": "4db689eb-29cd-4537-88fa-fd5de3e17bfc",
   "metadata": {
    "jp-MarkdownHeadingCollapsed": true,
    "tags": []
   },
   "source": [
    "### DATAFRAME complemento_icms"
   ]
  },
  {
   "cell_type": "code",
   "execution_count": 37,
   "id": "c6aa58f6",
   "metadata": {},
   "outputs": [],
   "source": [
    "def limpar_complemento(df):\n",
    "    '''THIS FUNCTION USES THE 'complemento_icms' DATAFRAME TO CLEAN AND PROCESS GENERAL DATA WITH THE PURPOSE OF EXTRACTING THE ICMS FROM EACH STATE.'''\n",
    "    df = df.rename(columns = {'Column1':'ESTADO','Column2':'ICMS em %'})\n",
    "    df = df.reset_index(drop=True)\n",
    "    df = df.drop(index=[6,7,8])\n",
    "    jl = ['10.92', '20.73', '16.58', '14.68', '8.86', '13.68', '15.40']\n",
    "    df['jan/23'] = jl\n",
    "    jf = ['12.01', '20.86', '16.58', '14.80', '8.86', '14.76', '15.60']\n",
    "    df['fev/23'] = jf\n",
    "    pc =['12%','17%','18%','18%','12%', '17%', '18%']\n",
    "    df['ICMS em %'] = pc\n",
    "    df = df.set_index('ESTADO')\n",
    "    \n",
    "    return df"
   ]
  },
  {
   "cell_type": "code",
   "execution_count": 38,
   "id": "84541c8e-320c-4dee-9ce7-04c9e971b713",
   "metadata": {},
   "outputs": [],
   "source": [
    "# NEW DATAFRAME TREATED (estados_complemento):\n",
    "\n",
    "estados_complemento = limpar_complemento(complemento_icms)"
   ]
  },
  {
   "cell_type": "markdown",
   "id": "0150248b-ca4a-4ea7-a97a-69dd15ab18b1",
   "metadata": {
    "jp-MarkdownHeadingCollapsed": true,
    "tags": []
   },
   "source": [
    "### DATAFRAME margens_23"
   ]
  },
  {
   "cell_type": "code",
   "execution_count": 39,
   "id": "8f86eecd-bd67-43a3-a08e-90ee33b09a39",
   "metadata": {},
   "outputs": [],
   "source": [
    "# DEFINING THE FUNCTION THAT EXTRACTS BRAZIL ONLY FROM THE GROUP:\n",
    "def brasil_icms_23(df):\n",
    "    \n",
    "    '''THIS FUNCTION CARRIES OUT THE CLEANING TREATMENT OF THE 'margens_23' DATAFRAME, AIMED AT RETURNING GENERAL DATA FOR BRAZIL.'''\n",
    "\n",
    "# GENERAL TREATMENT:\n",
    "\n",
    "    df = df.iloc[0:1]\n",
    "    df = df.rename(columns = {'Unnamed: 1': 'ICMS em %', 'Unnamed: 0':'ESTADO'})\n",
    "    df['ICMS em %']= df['ICMS em %'].str.replace('Preço de Realização do Produtor\\rCIDE\\rPIS/COFINS\\rPreço do Produtor s/ ICMS c/ CIDE/PIS/COFINS\\rICMS\\rMargem Bruta de Distribuição\\rPreço de Distribuição\\rMargem Bruta de Revenda\\rPreço Final ao Consumidor', '-')\n",
    "    df = df.set_index('ESTADO')\n",
    "\n",
    "#'jan/23' COLUMN TREATMENT:\n",
    "\n",
    "    df['jan/23'] = df['jan/23'].str.slice(start=16)\n",
    "    df['jan/23'] = df['jan/23'].str.slice(start=0, stop=5)\n",
    "    df['jan/23'] = df['jan/23'].str.replace(',','.')\n",
    "\n",
    "#'fev/23' COLUMN TREATMENT:\n",
    "\n",
    "    df['fev/23'] = df['fev/23'].str.slice(start=16)\n",
    "    df['fev/23'] = df['fev/23'].str.slice(start=0, stop=5)\n",
    "    df['fev/23'] = df['fev/23'].str.replace(',','.')\n",
    "\n",
    "    return df"
   ]
  },
  {
   "cell_type": "code",
   "execution_count": 40,
   "id": "7f03d5dc-c442-49cd-a6e6-a195f371c3d3",
   "metadata": {},
   "outputs": [],
   "source": [
    "# NEW DATAFRAME TREATED (br_icms_23):\n",
    "\n",
    "br_icms_23 = brasil_icms_23(margens_23).reset_index()"
   ]
  },
  {
   "cell_type": "code",
   "execution_count": 41,
   "id": "62a3266f-9994-4320-8bb3-e15d4be28dc1",
   "metadata": {},
   "outputs": [],
   "source": [
    "def limpar_margens_23(df):\n",
    "   \n",
    "    '''THIS FUNCTION USES THE 'margins_23' DATAFRAME TO CLEAN AND PROCESS GENERAL DATA WITH THE PURPOSE OF EXTRACTING THE ICMS FROM EACH STATE.'''\n",
    "\n",
    "# GENERAL TREATMENT:\n",
    "    \n",
    "    df = df.drop(index=[0])\n",
    "    df = df.rename(columns = {'Unnamed: 1': 'ICMS em %', 'Unnamed: 0':'ESTADO'})\n",
    "    df['ICMS em %']= df['ICMS em %'].str.replace('Preço de Realização do Produtor\\rCIDE\\rPIS/COFINS\\rPreço do Produtor s/ ICMS c/ CIDE/PIS/COFINS\\rICMS\\rMargem Bruta de Distribuição\\rPreço de Distribuição\\rMargem Bruta de Revenda\\rPreço Final ao Consumidor', '-')\n",
    "    lista_23 = ['AC','AL','AP','BA','CE','DF','G0','MA','MT','MG','PA','PB','PE','PI','RJ','RS','RO','RR','SP','SE']\n",
    "    icms_lista_23 = ['17%','18%','18%','12%','18%','12%','12%','14%','12%','18%','17%','18%','18%','12%','12%','12%','12%','12%','12%','12%']\n",
    "    df['ESTADO'] = lista_23\n",
    "    df['ICMS em %'] = icms_lista_23 \n",
    "    df = df.set_index('ESTADO')\n",
    "\n",
    "\n",
    "#'jan/23' COLUMN TREATMENT:\n",
    "\n",
    "    df['jan/23'] = df['jan/23'].str.slice(start=16, stop=27)\n",
    "    lj = ['16,09','13,88','16,64','9,19','14,32','13,31','11,62','11,52','13,37','14,84','14,89','14,86','13,55','10,69','9,75','9,67','15,07','12,81','13,60','10,57']\n",
    "    df['jan/23'] = lj\n",
    "    df['jan/23'] = df['jan/23'].str.replace(',','.')\n",
    "\n",
    "\n",
    "#'fev/23' COLUMN TREATMENT:\n",
    "    \n",
    "    df['fev/23'] = df['fev/23'].str.slice(start=16, stop=27)\n",
    "    lf = ['16,22','13,88','16,78','19,37','15,02','13,44','13,37','13,49','14,45','14,97','15,02','15,91','13,67','10,69','10,91','9,75','14,63','14,13','12,87','9,74']\n",
    "    df['fev/23'] = lf\n",
    "    df['fev/23'] = df['fev/23'].str.replace(',','.')\n",
    "\n",
    "\n",
    "    return df"
   ]
  },
  {
   "cell_type": "code",
   "execution_count": 42,
   "id": "5bd793ca-1c61-4d98-a2a5-3049040509a9",
   "metadata": {},
   "outputs": [],
   "source": [
    "# NEW DATAFRAME TREATED (br_icms_23):\n",
    "\n",
    "\n",
    "estados_a =limpar_margens_23(margens_23)"
   ]
  },
  {
   "cell_type": "markdown",
   "id": "662ccdc1-0780-48a8-8a64-e245c656efd2",
   "metadata": {
    "tags": []
   },
   "source": [
    "### CONCATENATING THE ICMS TABLES BY STATE IN A NEW DATAFRAME"
   ]
  },
  {
   "cell_type": "code",
   "execution_count": 43,
   "id": "ba81acad-0b91-40db-8174-ee0edadd51c2",
   "metadata": {},
   "outputs": [],
   "source": [
    "# NEW DATAFRAME TREATED (estados_icms_2023):\n",
    "\n",
    "estados_icms_2023 = pd.concat([estados_a, estados_complemento], axis=0)\n",
    "estados_icms_2023 = estados_icms_2023. reset_index()\n"
   ]
  },
  {
   "cell_type": "code",
   "execution_count": null,
   "id": "31f5f42e-f088-4386-805c-c9221676ba7f",
   "metadata": {},
   "outputs": [],
   "source": []
  },
  {
   "cell_type": "code",
   "execution_count": 47,
   "id": "2292c435-3a81-48eb-8593-87a3db9a9264",
   "metadata": {},
   "outputs": [
    {
     "data": {
      "text/html": [
       "<div>\n",
       "<style scoped>\n",
       "    .dataframe tbody tr th:only-of-type {\n",
       "        vertical-align: middle;\n",
       "    }\n",
       "\n",
       "    .dataframe tbody tr th {\n",
       "        vertical-align: top;\n",
       "    }\n",
       "\n",
       "    .dataframe thead th {\n",
       "        text-align: right;\n",
       "    }\n",
       "</style>\n",
       "<table border=\"1\" class=\"dataframe\">\n",
       "  <thead>\n",
       "    <tr style=\"text-align: right;\">\n",
       "      <th></th>\n",
       "      <th>DATA</th>\n",
       "      <th>PRODUTO</th>\n",
       "      <th>NÚMERO DE POSTOS PESQUISADOS</th>\n",
       "      <th>UNIDADE DE MEDIDA</th>\n",
       "      <th>PREÇO MÉDIO REVENDA</th>\n",
       "      <th>PREÇO MÍNIMO REVENDA</th>\n",
       "      <th>PREÇO MÁXIMO REVENDA</th>\n",
       "    </tr>\n",
       "  </thead>\n",
       "  <tbody>\n",
       "    <tr>\n",
       "      <th>0</th>\n",
       "      <td>2013-01-01</td>\n",
       "      <td>GLP</td>\n",
       "      <td>8052</td>\n",
       "      <td>13Kg</td>\n",
       "      <td>40.113</td>\n",
       "      <td>26.00</td>\n",
       "      <td>62.0</td>\n",
       "    </tr>\n",
       "    <tr>\n",
       "      <th>1</th>\n",
       "      <td>2013-01-01</td>\n",
       "      <td>GLP</td>\n",
       "      <td>8053</td>\n",
       "      <td>13Kg</td>\n",
       "      <td>40.143</td>\n",
       "      <td>26.00</td>\n",
       "      <td>62.0</td>\n",
       "    </tr>\n",
       "    <tr>\n",
       "      <th>2</th>\n",
       "      <td>2013-01-01</td>\n",
       "      <td>GLP</td>\n",
       "      <td>8055</td>\n",
       "      <td>13Kg</td>\n",
       "      <td>40.104</td>\n",
       "      <td>27.00</td>\n",
       "      <td>62.0</td>\n",
       "    </tr>\n",
       "    <tr>\n",
       "      <th>3</th>\n",
       "      <td>2013-01-01</td>\n",
       "      <td>GLP</td>\n",
       "      <td>8029</td>\n",
       "      <td>13Kg</td>\n",
       "      <td>40.233</td>\n",
       "      <td>27.00</td>\n",
       "      <td>62.0</td>\n",
       "    </tr>\n",
       "    <tr>\n",
       "      <th>4</th>\n",
       "      <td>2013-02-01</td>\n",
       "      <td>GLP</td>\n",
       "      <td>8035</td>\n",
       "      <td>13Kg</td>\n",
       "      <td>40.222</td>\n",
       "      <td>26.00</td>\n",
       "      <td>62.0</td>\n",
       "    </tr>\n",
       "    <tr>\n",
       "      <th>...</th>\n",
       "      <td>...</td>\n",
       "      <td>...</td>\n",
       "      <td>...</td>\n",
       "      <td>...</td>\n",
       "      <td>...</td>\n",
       "      <td>...</td>\n",
       "      <td>...</td>\n",
       "    </tr>\n",
       "    <tr>\n",
       "      <th>520</th>\n",
       "      <td>2023-03-01</td>\n",
       "      <td>GLP</td>\n",
       "      <td>4137</td>\n",
       "      <td>13Kg</td>\n",
       "      <td>107.500</td>\n",
       "      <td>70.00</td>\n",
       "      <td>155.0</td>\n",
       "    </tr>\n",
       "    <tr>\n",
       "      <th>521</th>\n",
       "      <td>2023-03-01</td>\n",
       "      <td>GLP</td>\n",
       "      <td>4018</td>\n",
       "      <td>13Kg</td>\n",
       "      <td>107.500</td>\n",
       "      <td>70.00</td>\n",
       "      <td>155.0</td>\n",
       "    </tr>\n",
       "    <tr>\n",
       "      <th>522</th>\n",
       "      <td>2023-03-01</td>\n",
       "      <td>GLP</td>\n",
       "      <td>3877</td>\n",
       "      <td>13Kg</td>\n",
       "      <td>107.690</td>\n",
       "      <td>74.99</td>\n",
       "      <td>155.0</td>\n",
       "    </tr>\n",
       "    <tr>\n",
       "      <th>523</th>\n",
       "      <td>2023-03-01</td>\n",
       "      <td>GLP</td>\n",
       "      <td>3936</td>\n",
       "      <td>13Kg</td>\n",
       "      <td>107.520</td>\n",
       "      <td>74.99</td>\n",
       "      <td>155.0</td>\n",
       "    </tr>\n",
       "    <tr>\n",
       "      <th>524</th>\n",
       "      <td>2023-04-01</td>\n",
       "      <td>GLP</td>\n",
       "      <td>3944</td>\n",
       "      <td>13Kg</td>\n",
       "      <td>107.330</td>\n",
       "      <td>74.99</td>\n",
       "      <td>155.0</td>\n",
       "    </tr>\n",
       "  </tbody>\n",
       "</table>\n",
       "<p>525 rows × 7 columns</p>\n",
       "</div>"
      ],
      "text/plain": [
       "          DATA PRODUTO  NÚMERO DE POSTOS PESQUISADOS UNIDADE DE MEDIDA  \\\n",
       "0   2013-01-01     GLP                          8052              13Kg   \n",
       "1   2013-01-01     GLP                          8053              13Kg   \n",
       "2   2013-01-01     GLP                          8055              13Kg   \n",
       "3   2013-01-01     GLP                          8029              13Kg   \n",
       "4   2013-02-01     GLP                          8035              13Kg   \n",
       "..         ...     ...                           ...               ...   \n",
       "520 2023-03-01     GLP                          4137              13Kg   \n",
       "521 2023-03-01     GLP                          4018              13Kg   \n",
       "522 2023-03-01     GLP                          3877              13Kg   \n",
       "523 2023-03-01     GLP                          3936              13Kg   \n",
       "524 2023-04-01     GLP                          3944              13Kg   \n",
       "\n",
       "     PREÇO MÉDIO REVENDA  PREÇO MÍNIMO REVENDA  PREÇO MÁXIMO REVENDA  \n",
       "0                 40.113                 26.00                  62.0  \n",
       "1                 40.143                 26.00                  62.0  \n",
       "2                 40.104                 27.00                  62.0  \n",
       "3                 40.233                 27.00                  62.0  \n",
       "4                 40.222                 26.00                  62.0  \n",
       "..                   ...                   ...                   ...  \n",
       "520              107.500                 70.00                 155.0  \n",
       "521              107.500                 70.00                 155.0  \n",
       "522              107.690                 74.99                 155.0  \n",
       "523              107.520                 74.99                 155.0  \n",
       "524              107.330                 74.99                 155.0  \n",
       "\n",
       "[525 rows x 7 columns]"
      ]
     },
     "execution_count": 47,
     "metadata": {},
     "output_type": "execute_result"
    }
   ],
   "source": [
    "glp_br"
   ]
  },
  {
   "cell_type": "code",
   "execution_count": null,
   "id": "c0fae521-3a6f-4ae7-9ed9-1dbee2f33465",
   "metadata": {},
   "outputs": [],
   "source": []
  },
  {
   "cell_type": "markdown",
   "id": "ebbd4342-f4d5-4766-ae84-8abaf5eeee4d",
   "metadata": {
    "tags": []
   },
   "source": [
    "## CREATING THE DATABASE IN MYSQL AND EXPORTING TABLES"
   ]
  },
  {
   "cell_type": "code",
   "execution_count": 44,
   "id": "2f2bee6d-b1d5-415b-923a-a7bc01b143e2",
   "metadata": {
    "tags": []
   },
   "outputs": [
    {
     "data": {
      "text/plain": [
       "12"
      ]
     },
     "execution_count": 44,
     "metadata": {},
     "output_type": "execute_result"
    }
   ],
   "source": [
    "from dotenv import load_dotenv\n",
    "import sqlalchemy as sa\n",
    "load_dotenv(r'C:\\Users\\pedro\\OneDrive\\Área de Trabalho\\GAS\\mysql.env')\n",
    "url_banco = '127.0.0.1'\n",
    "nome_db = 'gas'\n",
    "usuario = os.getenv('usuario')\n",
    "senha = os.getenv('senha')\n",
    "conn_str = f\"mysql+pymysql://{usuario}:{senha}@{url_banco}/{nome_db}\"\n",
    "engine = sa.create_engine(conn_str)\n",
    "\n",
    "glp_br.to_sql('glp_br', engine, index = False, if_exists = 'replace')\n",
    "glp_regioes.to_sql('glp_regioes', engine, index = False, if_exists = 'replace')\n",
    "brasil_icms_13.to_sql('brasil_icms_2013', engine, index = False, if_exists = 'replace')\n",
    "estados_icms_2013.to_sql('estados_icms_2013', engine, index = False, if_exists = 'replace')\n",
    "br_icms_23.to_sql('br_icms_23', engine, index = False, if_exists = 'replace')\n",
    "estados_icms_2023.to_sql('estados_icms_2023', engine, index = False, if_exists = 'replace')\n",
    "salario_minimo.to_sql('salario_minimo', engine, index = False, if_exists = 'replace')"
   ]
  },
  {
   "cell_type": "markdown",
   "id": "d8352874-27b8-4d4f-95ee-fcab18e9e3c5",
   "metadata": {
    "jp-MarkdownHeadingCollapsed": true,
    "tags": []
   },
   "source": [
    "## CONCLUSIONS OBTAINED THROUGH THE GRAPHIC ANALYSIS IN THE TABLEAU"
   ]
  },
  {
   "cell_type": "markdown",
   "id": "a44d5c91-d6c1-46f8-9046-54551b3e360e",
   "metadata": {},
   "source": [
    "#### Based on the insights presented about GLP, we can conclude that there is a large discrepancy in the collection of ICMS in the different Brazilian states, with Minas Gerais being the state that has the most discrepant rate from the others. While some states have increased their taxes over the years, Minas Gerais has remained at the same rate. Despite this, in 2013, the state of Acre charged the highest added value in the price of LPG, while over the 10 years studied, the state that charged the most was Mato Grosso and the cheapest was Bahia. The Northeast region stood out as the most expensive in Brazil in relation to the price of LPG. The hypothesis that cooking gas represented a large margin of the minimum wage was refuted, and over the 10 years, it represented a margin of 6 to 9%, always readjusted according to the annual readjustment of the minimum wage. However, there was a significant increase of 8 to 9% in 2021 and 2022, which indicates the need for continuous monitoring to verify the stabilization or depreciation of rates in the coming years."
   ]
  }
 ],
 "metadata": {
  "kernelspec": {
   "display_name": "Python 3 (ipykernel)",
   "language": "python",
   "name": "python3"
  },
  "language_info": {
   "codemirror_mode": {
    "name": "ipython",
    "version": 3
   },
   "file_extension": ".py",
   "mimetype": "text/x-python",
   "name": "python",
   "nbconvert_exporter": "python",
   "pygments_lexer": "ipython3",
   "version": "3.9.13"
  },
  "varInspector": {
   "cols": {
    "lenName": 16,
    "lenType": 16,
    "lenVar": 40
   },
   "kernels_config": {
    "python": {
     "delete_cmd_postfix": "",
     "delete_cmd_prefix": "del ",
     "library": "var_list.py",
     "varRefreshCmd": "print(var_dic_list())"
    },
    "r": {
     "delete_cmd_postfix": ") ",
     "delete_cmd_prefix": "rm(",
     "library": "var_list.r",
     "varRefreshCmd": "cat(var_dic_list()) "
    }
   },
   "types_to_exclude": [
    "module",
    "function",
    "builtin_function_or_method",
    "instance",
    "_Feature"
   ],
   "window_display": false
  }
 },
 "nbformat": 4,
 "nbformat_minor": 5
}
